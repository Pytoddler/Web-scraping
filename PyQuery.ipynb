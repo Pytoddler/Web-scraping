{
 "cells": [
  {
   "cell_type": "markdown",
   "metadata": {},
   "source": [
    "# PyQuery"
   ]
  },
  {
   "cell_type": "markdown",
   "metadata": {},
   "source": [
    "# 初始化"
   ]
  },
  {
   "cell_type": "markdown",
   "metadata": {},
   "source": [
    "## 字符串初始化"
   ]
  },
  {
   "cell_type": "code",
   "execution_count": 8,
   "metadata": {},
   "outputs": [
    {
     "name": "stdout",
     "output_type": "stream",
     "text": [
      "<li><img src=\"images/face01-01.gif\" align=\"absmiddle\"/> 服務對象\n",
      "            \t<ol>\n",
      "                \t<li>教職員帳號 \\ Faculty Account</li>\n",
      "                    <li>公務、計畫、及短期帳號 \\ Project and Short Term Account</li>\n",
      "                    <li>所有在學學生帳號 \\ Internal Student Account</li>\n",
      "                </ol>\n",
      "            </li>\n",
      "            <li>教職員帳號 \\ Faculty Account</li>\n",
      "                    <li>公務、計畫、及短期帳號 \\ Project and Short Term Account</li>\n",
      "                    <li>所有在學學生帳號 \\ Internal Student Account</li>\n",
      "                <li><img src=\"images/m02-05-2.gif\" align=\"absmiddle\"/> 立即前往 Go to <a href=\"https://mail.ntu.edu.tw/\">Mail 2.0</a></li>\n",
      "        \t<li><img src=\"images/ic04-04.gif\" align=\"absmiddle\"/> <a href=\"http://www.cc.ntu.edu.tw/mail2.0/\">Mail 2.0 FAQ</a></li>\n",
      "        \n"
     ]
    }
   ],
   "source": [
    "html = '''\n",
    "<html xmlns=\"http://www.w3.org/1999/xhtml\">\n",
    "<head>\n",
    "<meta http-equiv=\"Content-Type\" content=\"text/html; charset=utf-8\" />\n",
    "<title>NTU Mail-臺灣大學電子郵件系統</title>\n",
    "<link rel=\"stylesheet\" href=\"images/style.css\" type=\"text/css\" />\n",
    "\n",
    "</head>\n",
    "\n",
    "<body>\n",
    "<div id=\"top\">| <a href=\"http://www.ntu.edu.tw/\">臺大首頁 NTU Home</a> | <a href=\"http://www.cc.ntu.edu.tw/\">計中首頁</a>  |</div>\n",
    "<div id=\"wrapper\">\n",
    "\t<div id=\"banner\"></div>\n",
    "    <div id=\"mail\">\n",
    "    \t<div id=\"imgcss\"><img src=\"images/mail20.png\"/></div>\n",
    "        <div id=\"content\">\n",
    "        <h1><a href=\"https://mail.ntu.edu.tw/\">NTU Mail 2.0</a></h1>\n",
    "        <ul>\n",
    "        \t<li><img src=\"images/face01-01.gif\" align=\"absmiddle\"/> 服務對象\n",
    "            \t<ol>\n",
    "                \t<li>教職員帳號 \\ Faculty Account</li>\n",
    "                    <li>公務、計畫、及短期帳號 \\ Project and Short Term Account</li>\n",
    "                    <li>所有在學學生帳號 \\ Internal Student Account</li>\n",
    "                </ol>\n",
    "            </li>\n",
    "            <li><img src=\"images/m02-05-2.gif\" align=\"absmiddle\"/> 立即前往 Go to <a href=\"https://mail.ntu.edu.tw/\">Mail 2.0</a></li>\n",
    "        \t<li><img src=\"images/ic04-04.gif\" align=\"absmiddle\"/> <a href=\"http://www.cc.ntu.edu.tw/mail2.0/\">Mail 2.0 FAQ</a></li>\n",
    "        </ul>\n",
    "        </div><!--content end-->\n",
    "    </div><!--mail end-->\n",
    "'''\n",
    "\n",
    "from pyquery import PyQuery as pq\n",
    "doc = pq(html)\n",
    "\n",
    "print(doc('li'))"
   ]
  },
  {
   "cell_type": "markdown",
   "metadata": {},
   "source": [
    "## URL初始化"
   ]
  },
  {
   "cell_type": "code",
   "execution_count": 12,
   "metadata": {},
   "outputs": [
    {
     "name": "stdout",
     "output_type": "stream",
     "text": [
      "<title>NTU Mail-臺灣大學電子郵件系統</title>&#13;\n",
      "\n"
     ]
    }
   ],
   "source": [
    "from pyquery import PyQuery as pq\n",
    "doc = pq(url='http://ntumail.cc.ntu.edu.tw', encoding=\"utf-8\") #避免亂碼\n",
    "\n",
    "print(doc('title'))"
   ]
  },
  {
   "cell_type": "markdown",
   "metadata": {},
   "source": [
    "# 基本CSS選擇器"
   ]
  },
  {
   "cell_type": "code",
   "execution_count": 15,
   "metadata": {},
   "outputs": [
    {
     "name": "stdout",
     "output_type": "stream",
     "text": [
      "<div id=\"imgcss\"><img src=\"images/mail20.png\" /></div>&#13;\n",
      "        <div id=\"imgcss\"><img src=\"images/webmail.png\" /></div>&#13;\n",
      "        \n"
     ]
    }
   ],
   "source": [
    "from pyquery import PyQuery as pq\n",
    "doc = pq(url='http://ntumail.cc.ntu.edu.tw', encoding=\"utf-8\") #避免亂碼\n",
    "\n",
    "print(doc('#imgcss')) #id為#__,class為.__的 ___對象"
   ]
  },
  {
   "cell_type": "markdown",
   "metadata": {},
   "source": [
    "# 查找元素"
   ]
  },
  {
   "cell_type": "markdown",
   "metadata": {},
   "source": [
    "### 子元素"
   ]
  },
  {
   "cell_type": "code",
   "execution_count": 31,
   "metadata": {},
   "outputs": [
    {
     "name": "stdout",
     "output_type": "stream",
     "text": [
      "<class 'pyquery.pyquery.PyQuery'>\n",
      "<div id=\"content\">&#13;\n",
      "        <h1><a href=\"https://mail.ntu.edu.tw/\">NTU Mail 2.0</a></h1>&#13;\n",
      "        <ul>&#13;\n",
      "        \t<li><img src=\"images/face01-01.gif\" align=\"absmiddle\" /> 服務對象&#13;\n",
      "            \t<ol>&#13;\n",
      "                \t<li>教職員帳號 \\ Faculty Account</li>&#13;\n",
      "                    <li>公務、計畫、及短期帳號 \\ Project and Short Term Account</li>&#13;\n",
      "                    <li>所有在學學生帳號 \\ Internal Student Account</li>&#13;\n",
      "                </ol>&#13;\n",
      "            </li>&#13;\n",
      "            <li><img src=\"images/m02-05-2.gif\" align=\"absmiddle\" /> 立即前往 Go to <a href=\"https://mail.ntu.edu.tw/\">Mail 2.0</a></li>&#13;\n",
      "        \t<li><img src=\"images/ic04-04.gif\" align=\"absmiddle\" /> <a href=\"http://www.cc.ntu.edu.tw/mail2.0/\">Mail 2.0 FAQ</a></li>&#13;\n",
      "        </ul>&#13;\n",
      "        </div><div id=\"content\">&#13;\n",
      "        <h1><a href=\"http://webmail.ntu.edu.tw/\">NTU Mail 1.0 (Webmail 1.0)</a></h1>&#13;\n",
      "        <ul>&#13;\n",
      "        \t<li><img src=\"images/face01-01.gif\" align=\"absmiddle\" /> 服務對象&#13;\n",
      "            \t<ol>&#13;\n",
      "                    <li>校友帳號 \\ Alumni Account</li>&#13;\n",
      "                    <li>醫院員工帳號 \\ Hospital Staff Account</li>&#13;\n",
      "                </ol>&#13;\n",
      "            </li>&#13;\n",
      "            <li><img src=\"images/m02-05-2.gif\" align=\"absmiddle\" /> 立即前往 Go to <a href=\"http://webmail.ntu.edu.tw/\">Webmail 1.0</a></li>&#13;\n",
      "        \t<li><img src=\"images/ic04-04.gif\" align=\"absmiddle\" /> <a href=\"http://jsc.cc.ntu.edu.tw/ntucc/email/\">Webmail FAQ</a></li>&#13;\n",
      "        </ul>&#13;\n",
      "        </div>\n",
      "<class 'pyquery.pyquery.PyQuery'>\n",
      "<li><img src=\"images/face01-01.gif\" align=\"absmiddle\" /> 服務對象&#13;\n",
      "            \t<ol>&#13;\n",
      "                \t<li>教職員帳號 \\ Faculty Account</li>&#13;\n",
      "                    <li>公務、計畫、及短期帳號 \\ Project and Short Term Account</li>&#13;\n",
      "                    <li>所有在學學生帳號 \\ Internal Student Account</li>&#13;\n",
      "                </ol>&#13;\n",
      "            </li>&#13;\n",
      "            <li>教職員帳號 \\ Faculty Account</li>&#13;\n",
      "                    <li>公務、計畫、及短期帳號 \\ Project and Short Term Account</li>&#13;\n",
      "                    <li>所有在學學生帳號 \\ Internal Student Account</li>&#13;\n",
      "                <li><img src=\"images/m02-05-2.gif\" align=\"absmiddle\" /> 立即前往 Go to <a href=\"https://mail.ntu.edu.tw/\">Mail 2.0</a></li>&#13;\n",
      "        \t<li><img src=\"images/ic04-04.gif\" align=\"absmiddle\" /> <a href=\"http://www.cc.ntu.edu.tw/mail2.0/\">Mail 2.0 FAQ</a></li>&#13;\n",
      "        <li><img src=\"images/face01-01.gif\" align=\"absmiddle\" /> 服務對象&#13;\n",
      "            \t<ol>&#13;\n",
      "                    <li>校友帳號 \\ Alumni Account</li>&#13;\n",
      "                    <li>醫院員工帳號 \\ Hospital Staff Account</li>&#13;\n",
      "                </ol>&#13;\n",
      "            </li>&#13;\n",
      "            <li>校友帳號 \\ Alumni Account</li>&#13;\n",
      "                    <li>醫院員工帳號 \\ Hospital Staff Account</li>&#13;\n",
      "                <li><img src=\"images/m02-05-2.gif\" align=\"absmiddle\" /> 立即前往 Go to <a href=\"http://webmail.ntu.edu.tw/\">Webmail 1.0</a></li>&#13;\n",
      "        \t<li><img src=\"images/ic04-04.gif\" align=\"absmiddle\" /> <a href=\"http://jsc.cc.ntu.edu.tw/ntucc/email/\">Webmail FAQ</a></li>&#13;\n",
      "        \n"
     ]
    }
   ],
   "source": [
    "from pyquery import PyQuery as pq\n",
    "doc = pq(url='http://ntumail.cc.ntu.edu.tw', encoding=\"utf-8\") #避免亂碼\n",
    "\n",
    "#第一層先把id為content的都找出來\n",
    "items = doc('#content')\n",
    "print(type(items))\n",
    "print(items)\n",
    "\n",
    "#第二層把剛剛那些東西，再次篩選出tag為li的對象\n",
    "lis = items.find('li')\n",
    "print(type(lis))\n",
    "print(lis)"
   ]
  },
  {
   "cell_type": "markdown",
   "metadata": {},
   "source": [
    "### 父元素"
   ]
  },
  {
   "cell_type": "code",
   "execution_count": 38,
   "metadata": {},
   "outputs": [
    {
     "name": "stdout",
     "output_type": "stream",
     "text": [
      "<class 'pyquery.pyquery.PyQuery'>\n",
      "<div id=\"mail\">&#13;\n",
      "    \t<div id=\"imgcss\"><img src=\"images/mail20.png\" /></div>&#13;\n",
      "        <div id=\"content\">&#13;\n",
      "        <h1><a href=\"https://mail.ntu.edu.tw/\">NTU Mail 2.0</a></h1>&#13;\n",
      "        <ul>&#13;\n",
      "        \t<li><img src=\"images/face01-01.gif\" align=\"absmiddle\" /> 服務對象&#13;\n",
      "            \t<ol>&#13;\n",
      "                \t<li>教職員帳號 \\ Faculty Account</li>&#13;\n",
      "                    <li>公務、計畫、及短期帳號 \\ Project and Short Term Account</li>&#13;\n",
      "                    <li>所有在學學生帳號 \\ Internal Student Account</li>&#13;\n",
      "                </ol>&#13;\n",
      "            </li>&#13;\n",
      "            <li><img src=\"images/m02-05-2.gif\" align=\"absmiddle\" /> 立即前往 Go to <a href=\"https://mail.ntu.edu.tw/\">Mail 2.0</a></li>&#13;\n",
      "        \t<li><img src=\"images/ic04-04.gif\" align=\"absmiddle\" /> <a href=\"http://www.cc.ntu.edu.tw/mail2.0/\">Mail 2.0 FAQ</a></li>&#13;\n",
      "        </ul>&#13;\n",
      "        </div><!--content end-->&#13;\n",
      "    </div><div id=\"webmail\">&#13;\n",
      "    \t<div id=\"imgcss\"><img src=\"images/webmail.png\" /></div>&#13;\n",
      "        <div id=\"content\">&#13;\n",
      "        <h1><a href=\"http://webmail.ntu.edu.tw/\">NTU Mail 1.0 (Webmail 1.0)</a></h1>&#13;\n",
      "        <ul>&#13;\n",
      "        \t<li><img src=\"images/face01-01.gif\" align=\"absmiddle\" /> 服務對象&#13;\n",
      "            \t<ol>&#13;\n",
      "                    <li>校友帳號 \\ Alumni Account</li>&#13;\n",
      "                    <li>醫院員工帳號 \\ Hospital Staff Account</li>&#13;\n",
      "                </ol>&#13;\n",
      "            </li>&#13;\n",
      "            <li><img src=\"images/m02-05-2.gif\" align=\"absmiddle\" /> 立即前往 Go to <a href=\"http://webmail.ntu.edu.tw/\">Webmail 1.0</a></li>&#13;\n",
      "        \t<li><img src=\"images/ic04-04.gif\" align=\"absmiddle\" /> <a href=\"http://jsc.cc.ntu.edu.tw/ntucc/email/\">Webmail FAQ</a></li>&#13;\n",
      "        </ul>&#13;\n",
      "        </div><!--content end-->&#13;\n",
      "    </div>\n"
     ]
    }
   ],
   "source": [
    "from pyquery import PyQuery as pq\n",
    "doc = pq(url='http://ntumail.cc.ntu.edu.tw', encoding=\"utf-8\") #避免亂碼\n",
    "items = doc('#imgcss')\n",
    "\n",
    "parent = items.parent() #直接父元素\n",
    "print(type(parent))\n",
    "print(parent)"
   ]
  },
  {
   "cell_type": "code",
   "execution_count": 39,
   "metadata": {},
   "outputs": [
    {
     "name": "stdout",
     "output_type": "stream",
     "text": [
      "<class 'pyquery.pyquery.PyQuery'>\n",
      "<html xmlns=\"http://www.w3.org/1999/xhtml\" xmlns=\"http://www.w3.org/1999/xhtml\">&#13;\n",
      "<head>&#13;\n",
      "<meta http-equiv=\"Content-Type\" content=\"text/html; charset=utf-8\" />&#13;\n",
      "<title>NTU Mail-臺灣大學電子郵件系統</title>&#13;\n",
      "<link rel=\"stylesheet\" href=\"images/style.css\" type=\"text/css\" />&#13;\n",
      "&#13;\n",
      "</head>&#13;\n",
      "&#13;\n",
      "<body>&#13;\n",
      "<div id=\"top\">| <a href=\"http://www.ntu.edu.tw/\">臺大首頁 NTU Home</a> | <a href=\"http://www.cc.ntu.edu.tw/\">計中首頁</a>  |</div>&#13;\n",
      "<div id=\"wrapper\">&#13;\n",
      "\t<div id=\"banner\"></div>&#13;\n",
      "    <div id=\"mail\">&#13;\n",
      "    \t<div id=\"imgcss\"><img src=\"images/mail20.png\" /></div>&#13;\n",
      "        <div id=\"content\">&#13;\n",
      "        <h1><a href=\"https://mail.ntu.edu.tw/\">NTU Mail 2.0</a></h1>&#13;\n",
      "        <ul>&#13;\n",
      "        \t<li><img src=\"images/face01-01.gif\" align=\"absmiddle\" /> 服務對象&#13;\n",
      "            \t<ol>&#13;\n",
      "                \t<li>教職員帳號 \\ Faculty Account</li>&#13;\n",
      "                    <li>公務、計畫、及短期帳號 \\ Project and Short Term Account</li>&#13;\n",
      "                    <li>所有在學學生帳號 \\ Internal Student Account</li>&#13;\n",
      "                </ol>&#13;\n",
      "            </li>&#13;\n",
      "            <li><img src=\"images/m02-05-2.gif\" align=\"absmiddle\" /> 立即前往 Go to <a href=\"https://mail.ntu.edu.tw/\">Mail 2.0</a></li>&#13;\n",
      "        \t<li><img src=\"images/ic04-04.gif\" align=\"absmiddle\" /> <a href=\"http://www.cc.ntu.edu.tw/mail2.0/\">Mail 2.0 FAQ</a></li>&#13;\n",
      "        </ul>&#13;\n",
      "        </div><!--content end-->&#13;\n",
      "    </div><!--mail end-->&#13;\n",
      "    &#13;\n",
      "    <div id=\"webmail\">&#13;\n",
      "    \t<div id=\"imgcss\"><img src=\"images/webmail.png\" /></div>&#13;\n",
      "        <div id=\"content\">&#13;\n",
      "        <h1><a href=\"http://webmail.ntu.edu.tw/\">NTU Mail 1.0 (Webmail 1.0)</a></h1>&#13;\n",
      "        <ul>&#13;\n",
      "        \t<li><img src=\"images/face01-01.gif\" align=\"absmiddle\" /> 服務對象&#13;\n",
      "            \t<ol>&#13;\n",
      "                    <li>校友帳號 \\ Alumni Account</li>&#13;\n",
      "                    <li>醫院員工帳號 \\ Hospital Staff Account</li>&#13;\n",
      "                </ol>&#13;\n",
      "            </li>&#13;\n",
      "            <li><img src=\"images/m02-05-2.gif\" align=\"absmiddle\" /> 立即前往 Go to <a href=\"http://webmail.ntu.edu.tw/\">Webmail 1.0</a></li>&#13;\n",
      "        \t<li><img src=\"images/ic04-04.gif\" align=\"absmiddle\" /> <a href=\"http://jsc.cc.ntu.edu.tw/ntucc/email/\">Webmail FAQ</a></li>&#13;\n",
      "        </ul>&#13;\n",
      "        </div><!--content end-->&#13;\n",
      "    </div><!--webmail end-->&#13;\n",
      "\t&#13;\n",
      "</div><!--wrapper end-->&#13;\n",
      "<div id=\"footer\">Copyright 臺灣大學 National Taiwan University<br />&#13;\n",
      "諮詢服務電話:(02)3366-5022或3366-5023<br />&#13;\n",
      "諮詢服務信箱：cchelp@ntu.edu.tw</div>&#13;\n",
      "</body>&#13;\n",
      "</html><body>&#13;\n",
      "<div id=\"top\">| <a href=\"http://www.ntu.edu.tw/\">臺大首頁 NTU Home</a> | <a href=\"http://www.cc.ntu.edu.tw/\">計中首頁</a>  |</div>&#13;\n",
      "<div id=\"wrapper\">&#13;\n",
      "\t<div id=\"banner\"></div>&#13;\n",
      "    <div id=\"mail\">&#13;\n",
      "    \t<div id=\"imgcss\"><img src=\"images/mail20.png\" /></div>&#13;\n",
      "        <div id=\"content\">&#13;\n",
      "        <h1><a href=\"https://mail.ntu.edu.tw/\">NTU Mail 2.0</a></h1>&#13;\n",
      "        <ul>&#13;\n",
      "        \t<li><img src=\"images/face01-01.gif\" align=\"absmiddle\" /> 服務對象&#13;\n",
      "            \t<ol>&#13;\n",
      "                \t<li>教職員帳號 \\ Faculty Account</li>&#13;\n",
      "                    <li>公務、計畫、及短期帳號 \\ Project and Short Term Account</li>&#13;\n",
      "                    <li>所有在學學生帳號 \\ Internal Student Account</li>&#13;\n",
      "                </ol>&#13;\n",
      "            </li>&#13;\n",
      "            <li><img src=\"images/m02-05-2.gif\" align=\"absmiddle\" /> 立即前往 Go to <a href=\"https://mail.ntu.edu.tw/\">Mail 2.0</a></li>&#13;\n",
      "        \t<li><img src=\"images/ic04-04.gif\" align=\"absmiddle\" /> <a href=\"http://www.cc.ntu.edu.tw/mail2.0/\">Mail 2.0 FAQ</a></li>&#13;\n",
      "        </ul>&#13;\n",
      "        </div><!--content end-->&#13;\n",
      "    </div><!--mail end-->&#13;\n",
      "    &#13;\n",
      "    <div id=\"webmail\">&#13;\n",
      "    \t<div id=\"imgcss\"><img src=\"images/webmail.png\" /></div>&#13;\n",
      "        <div id=\"content\">&#13;\n",
      "        <h1><a href=\"http://webmail.ntu.edu.tw/\">NTU Mail 1.0 (Webmail 1.0)</a></h1>&#13;\n",
      "        <ul>&#13;\n",
      "        \t<li><img src=\"images/face01-01.gif\" align=\"absmiddle\" /> 服務對象&#13;\n",
      "            \t<ol>&#13;\n",
      "                    <li>校友帳號 \\ Alumni Account</li>&#13;\n",
      "                    <li>醫院員工帳號 \\ Hospital Staff Account</li>&#13;\n",
      "                </ol>&#13;\n",
      "            </li>&#13;\n",
      "            <li><img src=\"images/m02-05-2.gif\" align=\"absmiddle\" /> 立即前往 Go to <a href=\"http://webmail.ntu.edu.tw/\">Webmail 1.0</a></li>&#13;\n",
      "        \t<li><img src=\"images/ic04-04.gif\" align=\"absmiddle\" /> <a href=\"http://jsc.cc.ntu.edu.tw/ntucc/email/\">Webmail FAQ</a></li>&#13;\n",
      "        </ul>&#13;\n",
      "        </div><!--content end-->&#13;\n",
      "    </div><!--webmail end-->&#13;\n",
      "\t&#13;\n",
      "</div><!--wrapper end-->&#13;\n",
      "<div id=\"footer\">Copyright 臺灣大學 National Taiwan University<br />&#13;\n",
      "諮詢服務電話:(02)3366-5022或3366-5023<br />&#13;\n",
      "諮詢服務信箱：cchelp@ntu.edu.tw</div>&#13;\n",
      "</body>&#13;\n",
      "<div id=\"wrapper\">&#13;\n",
      "\t<div id=\"banner\"></div>&#13;\n",
      "    <div id=\"mail\">&#13;\n",
      "    \t<div id=\"imgcss\"><img src=\"images/mail20.png\" /></div>&#13;\n",
      "        <div id=\"content\">&#13;\n",
      "        <h1><a href=\"https://mail.ntu.edu.tw/\">NTU Mail 2.0</a></h1>&#13;\n",
      "        <ul>&#13;\n",
      "        \t<li><img src=\"images/face01-01.gif\" align=\"absmiddle\" /> 服務對象&#13;\n",
      "            \t<ol>&#13;\n",
      "                \t<li>教職員帳號 \\ Faculty Account</li>&#13;\n",
      "                    <li>公務、計畫、及短期帳號 \\ Project and Short Term Account</li>&#13;\n",
      "                    <li>所有在學學生帳號 \\ Internal Student Account</li>&#13;\n",
      "                </ol>&#13;\n",
      "            </li>&#13;\n",
      "            <li><img src=\"images/m02-05-2.gif\" align=\"absmiddle\" /> 立即前往 Go to <a href=\"https://mail.ntu.edu.tw/\">Mail 2.0</a></li>&#13;\n",
      "        \t<li><img src=\"images/ic04-04.gif\" align=\"absmiddle\" /> <a href=\"http://www.cc.ntu.edu.tw/mail2.0/\">Mail 2.0 FAQ</a></li>&#13;\n",
      "        </ul>&#13;\n",
      "        </div><!--content end-->&#13;\n",
      "    </div><!--mail end-->&#13;\n",
      "    &#13;\n",
      "    <div id=\"webmail\">&#13;\n",
      "    \t<div id=\"imgcss\"><img src=\"images/webmail.png\" /></div>&#13;\n",
      "        <div id=\"content\">&#13;\n",
      "        <h1><a href=\"http://webmail.ntu.edu.tw/\">NTU Mail 1.0 (Webmail 1.0)</a></h1>&#13;\n",
      "        <ul>&#13;\n",
      "        \t<li><img src=\"images/face01-01.gif\" align=\"absmiddle\" /> 服務對象&#13;\n",
      "            \t<ol>&#13;\n",
      "                    <li>校友帳號 \\ Alumni Account</li>&#13;\n",
      "                    <li>醫院員工帳號 \\ Hospital Staff Account</li>&#13;\n",
      "                </ol>&#13;\n",
      "            </li>&#13;\n",
      "            <li><img src=\"images/m02-05-2.gif\" align=\"absmiddle\" /> 立即前往 Go to <a href=\"http://webmail.ntu.edu.tw/\">Webmail 1.0</a></li>&#13;\n",
      "        \t<li><img src=\"images/ic04-04.gif\" align=\"absmiddle\" /> <a href=\"http://jsc.cc.ntu.edu.tw/ntucc/email/\">Webmail FAQ</a></li>&#13;\n",
      "        </ul>&#13;\n",
      "        </div><!--content end-->&#13;\n",
      "    </div><!--webmail end-->&#13;\n",
      "\t&#13;\n",
      "</div><div id=\"mail\">&#13;\n",
      "    \t<div id=\"imgcss\"><img src=\"images/mail20.png\" /></div>&#13;\n",
      "        <div id=\"content\">&#13;\n",
      "        <h1><a href=\"https://mail.ntu.edu.tw/\">NTU Mail 2.0</a></h1>&#13;\n",
      "        <ul>&#13;\n",
      "        \t<li><img src=\"images/face01-01.gif\" align=\"absmiddle\" /> 服務對象&#13;\n",
      "            \t<ol>&#13;\n",
      "                \t<li>教職員帳號 \\ Faculty Account</li>&#13;\n",
      "                    <li>公務、計畫、及短期帳號 \\ Project and Short Term Account</li>&#13;\n",
      "                    <li>所有在學學生帳號 \\ Internal Student Account</li>&#13;\n",
      "                </ol>&#13;\n",
      "            </li>&#13;\n",
      "            <li><img src=\"images/m02-05-2.gif\" align=\"absmiddle\" /> 立即前往 Go to <a href=\"https://mail.ntu.edu.tw/\">Mail 2.0</a></li>&#13;\n",
      "        \t<li><img src=\"images/ic04-04.gif\" align=\"absmiddle\" /> <a href=\"http://www.cc.ntu.edu.tw/mail2.0/\">Mail 2.0 FAQ</a></li>&#13;\n",
      "        </ul>&#13;\n",
      "        </div><!--content end-->&#13;\n",
      "    </div><div id=\"webmail\">&#13;\n",
      "    \t<div id=\"imgcss\"><img src=\"images/webmail.png\" /></div>&#13;\n",
      "        <div id=\"content\">&#13;\n",
      "        <h1><a href=\"http://webmail.ntu.edu.tw/\">NTU Mail 1.0 (Webmail 1.0)</a></h1>&#13;\n",
      "        <ul>&#13;\n",
      "        \t<li><img src=\"images/face01-01.gif\" align=\"absmiddle\" /> 服務對象&#13;\n",
      "            \t<ol>&#13;\n",
      "                    <li>校友帳號 \\ Alumni Account</li>&#13;\n",
      "                    <li>醫院員工帳號 \\ Hospital Staff Account</li>&#13;\n",
      "                </ol>&#13;\n",
      "            </li>&#13;\n",
      "            <li><img src=\"images/m02-05-2.gif\" align=\"absmiddle\" /> 立即前往 Go to <a href=\"http://webmail.ntu.edu.tw/\">Webmail 1.0</a></li>&#13;\n",
      "        \t<li><img src=\"images/ic04-04.gif\" align=\"absmiddle\" /> <a href=\"http://jsc.cc.ntu.edu.tw/ntucc/email/\">Webmail FAQ</a></li>&#13;\n",
      "        </ul>&#13;\n",
      "        </div><!--content end-->&#13;\n",
      "    </div>\n"
     ]
    }
   ],
   "source": [
    "from pyquery import PyQuery as pq\n",
    "doc = pq(url='http://ntumail.cc.ntu.edu.tw', encoding=\"utf-8\") #避免亂碼\n",
    "items = doc('#imgcss')\n",
    "\n",
    "parents = items.parents() #所有祖先元素\n",
    "print(type(parents))\n",
    "print(parents)"
   ]
  },
  {
   "cell_type": "code",
   "execution_count": 40,
   "metadata": {},
   "outputs": [
    {
     "name": "stdout",
     "output_type": "stream",
     "text": [
      "<div id=\"mail\">&#13;\n",
      "    \t<div id=\"imgcss\"><img src=\"images/mail20.png\" /></div>&#13;\n",
      "        <div id=\"content\">&#13;\n",
      "        <h1><a href=\"https://mail.ntu.edu.tw/\">NTU Mail 2.0</a></h1>&#13;\n",
      "        <ul>&#13;\n",
      "        \t<li><img src=\"images/face01-01.gif\" align=\"absmiddle\" /> 服務對象&#13;\n",
      "            \t<ol>&#13;\n",
      "                \t<li>教職員帳號 \\ Faculty Account</li>&#13;\n",
      "                    <li>公務、計畫、及短期帳號 \\ Project and Short Term Account</li>&#13;\n",
      "                    <li>所有在學學生帳號 \\ Internal Student Account</li>&#13;\n",
      "                </ol>&#13;\n",
      "            </li>&#13;\n",
      "            <li><img src=\"images/m02-05-2.gif\" align=\"absmiddle\" /> 立即前往 Go to <a href=\"https://mail.ntu.edu.tw/\">Mail 2.0</a></li>&#13;\n",
      "        \t<li><img src=\"images/ic04-04.gif\" align=\"absmiddle\" /> <a href=\"http://www.cc.ntu.edu.tw/mail2.0/\">Mail 2.0 FAQ</a></li>&#13;\n",
      "        </ul>&#13;\n",
      "        </div><!--content end-->&#13;\n",
      "    </div>\n"
     ]
    }
   ],
   "source": [
    "parent_mail = items.parents('#mail') #指定找id為mail的父元素\n",
    "print(parent_mail)"
   ]
  },
  {
   "cell_type": "markdown",
   "metadata": {},
   "source": [
    "### 兄弟元素"
   ]
  },
  {
   "cell_type": "code",
   "execution_count": 47,
   "metadata": {},
   "outputs": [
    {
     "name": "stdout",
     "output_type": "stream",
     "text": [
      "<div id=\"imgcss\"><img src=\"images/mail20.png\" /></div>&#13;\n",
      "        <div id=\"imgcss\"><img src=\"images/webmail.png\" /></div>&#13;\n",
      "        <!--content end-->&#13;\n",
      "    <!--content end-->&#13;\n",
      "    \n",
      "<div id=\"imgcss\"><img src=\"images/mail20.png\" /></div>&#13;\n",
      "        <div id=\"imgcss\"><img src=\"images/webmail.png\" /></div>&#13;\n",
      "        \n"
     ]
    }
   ],
   "source": [
    "from pyquery import PyQuery as pq\n",
    "doc = pq(url='http://ntumail.cc.ntu.edu.tw', encoding=\"utf-8\") #避免亂碼\n",
    "li = doc('#content')\n",
    "print(li.siblings())\n",
    "print(li.siblings('#imgcss'))"
   ]
  },
  {
   "cell_type": "markdown",
   "metadata": {},
   "source": [
    "# 遍歷"
   ]
  },
  {
   "cell_type": "code",
   "execution_count": 49,
   "metadata": {},
   "outputs": [
    {
     "name": "stdout",
     "output_type": "stream",
     "text": [
      "<li class=\"item-0 active\"><a href=\"link3.html\">3rd item</a></li>\n",
      "            \n"
     ]
    }
   ],
   "source": [
    "html = '''\n",
    "<div class='wrap'>\n",
    "    <div id='container'>\n",
    "        <ul class='list'>\n",
    "            <li class='item-0'>1st item</li>\n",
    "            <li class='item-1'><a href='link2.html'>2nd item</a></li>\n",
    "            <li class='item-0 active'><a href='link3.html'>3rd item</a></li>\n",
    "            <li class='item-1 active'><a href='link4.html'>4th item</a></li>\n",
    "            <li class='item-0'><a href='link5.html'>5th item</a></li>\n",
    "        </ul>\n",
    "    </div>\n",
    "</div>\n",
    "'''\n",
    "\n",
    "from pyquery import PyQuery as pq\n",
    "doc = pq(html)\n",
    "\n",
    "li = doc('.item-0.active')\n",
    "print(li)"
   ]
  },
  {
   "cell_type": "code",
   "execution_count": 51,
   "metadata": {},
   "outputs": [
    {
     "name": "stdout",
     "output_type": "stream",
     "text": [
      "<class 'generator'>\n",
      "<li class=\"item-0\">1st item</li>\n",
      "            \n",
      "<li class=\"item-1\"><a href=\"link2.html\">2nd item</a></li>\n",
      "            \n",
      "<li class=\"item-0 active\"><a href=\"link3.html\">3rd item</a></li>\n",
      "            \n",
      "<li class=\"item-1 active\"><a href=\"link4.html\">4th item</a></li>\n",
      "            \n",
      "<li class=\"item-0\"><a href=\"link5.html\">5th item</a></li>\n",
      "        \n"
     ]
    }
   ],
   "source": [
    "html = '''\n",
    "<div class='wrap'>\n",
    "    <div id='container'>\n",
    "        <ul class='list'>\n",
    "            <li class='item-0'>1st item</li>\n",
    "            <li class='item-1'><a href='link2.html'>2nd item</a></li>\n",
    "            <li class='item-0 active'><a href='link3.html'>3rd item</a></li>\n",
    "            <li class='item-1 active'><a href='link4.html'>4th item</a></li>\n",
    "            <li class='item-0'><a href='link5.html'>5th item</a></li>\n",
    "        </ul>\n",
    "    </div>\n",
    "</div>\n",
    "'''\n",
    "\n",
    "from pyquery import PyQuery as pq\n",
    "doc = pq(html)\n",
    "\n",
    "lis = doc('li').items() #這是一個產生器\n",
    "print(type(lis))\n",
    "\n",
    "for li in lis:\n",
    "    print(li)"
   ]
  },
  {
   "cell_type": "markdown",
   "metadata": {},
   "source": [
    "# 獲取信息"
   ]
  },
  {
   "cell_type": "markdown",
   "metadata": {},
   "source": [
    "## 獲取屬性"
   ]
  },
  {
   "cell_type": "code",
   "execution_count": 53,
   "metadata": {},
   "outputs": [
    {
     "name": "stdout",
     "output_type": "stream",
     "text": [
      "<a href=\"link3.html\">3rd item</a>\n",
      "link3.html\n",
      "link3.html\n"
     ]
    }
   ],
   "source": [
    "html = '''\n",
    "<div class='wrap'>\n",
    "    <div id='container'>\n",
    "        <ul class='list'>\n",
    "            <li class='item-0'>1st item</li>\n",
    "            <li class='item-1'><a href='link2.html'>2nd item</a></li>\n",
    "            <li class='item-0 active'><a href='link3.html'>3rd item</a></li>\n",
    "            <li class='item-1 active'><a href='link4.html'>4th item</a></li>\n",
    "            <li class='item-0'><a href='link5.html'>5th item</a></li>\n",
    "        </ul>\n",
    "    </div>\n",
    "</div>\n",
    "'''\n",
    "\n",
    "from pyquery import PyQuery as pq\n",
    "doc = pq(html)\n",
    "\n",
    "a = doc('.item-0.active a')\n",
    "print(a)\n",
    "print(a.attr('href'))\n",
    "print(a.attr.href)"
   ]
  },
  {
   "cell_type": "markdown",
   "metadata": {},
   "source": [
    "## 獲取文本"
   ]
  },
  {
   "cell_type": "code",
   "execution_count": 55,
   "metadata": {},
   "outputs": [
    {
     "name": "stdout",
     "output_type": "stream",
     "text": [
      "<a href=\"link3.html\">3rd item</a>\n",
      "3rd item\n"
     ]
    }
   ],
   "source": [
    "html = '''\n",
    "<div class='wrap'>\n",
    "    <div id='container'>\n",
    "        <ul class='list'>\n",
    "            <li class='item-0'>1st item</li>\n",
    "            <li class='item-1'><a href='link2.html'>2nd item</a></li>\n",
    "            <li class='item-0 active'><a href='link3.html'>3rd item</a></li>\n",
    "            <li class='item-1 active'><a href='link4.html'>4th item</a></li>\n",
    "            <li class='item-0'><a href='link5.html'>5th item</a></li>\n",
    "        </ul>\n",
    "    </div>\n",
    "</div>\n",
    "'''\n",
    "\n",
    "from pyquery import PyQuery as pq\n",
    "doc = pq(html)\n",
    "\n",
    "a = doc('.item-0.active a')\n",
    "print(a)\n",
    "print(a.text())"
   ]
  },
  {
   "cell_type": "markdown",
   "metadata": {},
   "source": [
    "## 獲取html"
   ]
  },
  {
   "cell_type": "code",
   "execution_count": 57,
   "metadata": {},
   "outputs": [
    {
     "name": "stdout",
     "output_type": "stream",
     "text": [
      "<li class=\"item-0 active\"><a href=\"link3.html\">3rd item</a></li>\n",
      "            \n",
      "<a href=\"link3.html\">3rd item</a>\n"
     ]
    }
   ],
   "source": [
    "html = '''\n",
    "<div class='wrap'>\n",
    "    <div id='container'>\n",
    "        <ul class='list'>\n",
    "            <li class='item-0'>1st item</li>\n",
    "            <li class='item-1'><a href='link2.html'>2nd item</a></li>\n",
    "            <li class='item-0 active'><a href='link3.html'>3rd item</a></li>\n",
    "            <li class='item-1 active'><a href='link4.html'>4th item</a></li>\n",
    "            <li class='item-0'><a href='link5.html'>5th item</a></li>\n",
    "        </ul>\n",
    "    </div>\n",
    "</div>\n",
    "'''\n",
    "\n",
    "from pyquery import PyQuery as pq\n",
    "doc = pq(html)\n",
    "\n",
    "a = doc('.item-0.active')\n",
    "print(a)\n",
    "print(a.html())"
   ]
  },
  {
   "cell_type": "markdown",
   "metadata": {},
   "source": [
    "# DOM操作(節點)"
   ]
  },
  {
   "cell_type": "markdown",
   "metadata": {},
   "source": [
    "### addClass, removeClass"
   ]
  },
  {
   "cell_type": "code",
   "execution_count": 58,
   "metadata": {},
   "outputs": [
    {
     "name": "stdout",
     "output_type": "stream",
     "text": [
      "<li class=\"item-0 active\"><a href=\"link3.html\">3rd item</a></li>\n",
      "            \n",
      "<li class=\"item-0\"><a href=\"link3.html\">3rd item</a></li>\n",
      "            \n",
      "<li class=\"item-0 active\"><a href=\"link3.html\">3rd item</a></li>\n",
      "            \n"
     ]
    }
   ],
   "source": [
    "html = '''\n",
    "<div class='wrap'>\n",
    "    <div id='container'>\n",
    "        <ul class='list'>\n",
    "            <li class='item-0'>1st item</li>\n",
    "            <li class='item-1'><a href='link2.html'>2nd item</a></li>\n",
    "            <li class='item-0 active'><a href='link3.html'>3rd item</a></li>\n",
    "            <li class='item-1 active'><a href='link4.html'>4th item</a></li>\n",
    "            <li class='item-0'><a href='link5.html'>5th item</a></li>\n",
    "        </ul>\n",
    "    </div>\n",
    "</div>\n",
    "'''\n",
    "\n",
    "from pyquery import PyQuery as pq\n",
    "doc = pq(html)\n",
    "\n",
    "li = doc('.item-0.active')\n",
    "print(li)\n",
    "\n",
    "li.removeClass('active') #去掉active\n",
    "print(li)\n",
    "\n",
    "li.addClass('active') #加上active\n",
    "print(li)"
   ]
  },
  {
   "cell_type": "markdown",
   "metadata": {},
   "source": [
    "### attr, css"
   ]
  },
  {
   "cell_type": "code",
   "execution_count": 61,
   "metadata": {},
   "outputs": [
    {
     "name": "stdout",
     "output_type": "stream",
     "text": [
      "<li class=\"item-0 active\"><a href=\"link3.html\"><span class=\"bold\">3rd item</span></a></li>\n",
      "            \n",
      "<li class=\"item-0 active\" name=\"link\"><a href=\"link3.html\"><span class=\"bold\">3rd item</span></a></li>\n",
      "            \n",
      "<li class=\"item-0 active\" name=\"link\" style=\"font-size: 14px\"><a href=\"link3.html\"><span class=\"bold\">3rd item</span></a></li>\n",
      "            \n"
     ]
    }
   ],
   "source": [
    "html = '''\n",
    "<div class='wrap'>\n",
    "    <div id='container'>\n",
    "        <ul class='list'>\n",
    "            <li class='item-0'>1st item</li>\n",
    "            <li class='item-1'><a href='link2.html'>2nd item</a></li>\n",
    "            <li class='item-0 active'><a href='link3.html'><span class='bold'>3rd item</span></a></li>\n",
    "            <li class='item-1 active'><a href='link4.html'>4th item</a></li>\n",
    "            <li class='item-0'><a href='link5.html'>5th item</a></li>\n",
    "        </ul>\n",
    "    </div>\n",
    "</div>\n",
    "'''\n",
    "\n",
    "from pyquery import PyQuery as pq\n",
    "doc = pq(html)\n",
    "\n",
    "li = doc('.item-0.active')\n",
    "print(li)\n",
    "\n",
    "#增加name屬性:link\n",
    "li.attr('name','link') \n",
    "print(li)\n",
    "\n",
    "#增加style屬性\n",
    "li.css('font-size','14px')\n",
    "print(li)"
   ]
  },
  {
   "cell_type": "markdown",
   "metadata": {},
   "source": [
    "### remove"
   ]
  },
  {
   "cell_type": "code",
   "execution_count": 63,
   "metadata": {},
   "outputs": [
    {
     "name": "stdout",
     "output_type": "stream",
     "text": [
      "Hello, World This is a photograph.\n",
      "Hello, World\n"
     ]
    }
   ],
   "source": [
    "html= '''\n",
    "<div class='wrap'>\n",
    "    Hello, World\n",
    "    <p> This is a photograph.</p>\n",
    "</div>\n",
    "'''\n",
    "\n",
    "from pyquery import PyQuery as pq\n",
    "doc = pq(html)\n",
    "\n",
    "wrap = doc('.wrap')\n",
    "print(wrap.text())\n",
    "\n",
    "wrap.find('p').remove()\n",
    "print(wrap.text())"
   ]
  },
  {
   "cell_type": "markdown",
   "metadata": {},
   "source": [
    "# 偽裝選擇器"
   ]
  },
  {
   "cell_type": "code",
   "execution_count": 73,
   "metadata": {},
   "outputs": [
    {
     "name": "stdout",
     "output_type": "stream",
     "text": [
      "<li class=\"item-0\">1st item</li>\n",
      "            \n",
      "<li class=\"item-0\"><a href=\"link5.html\">5th item</a></li>\n",
      "        \n",
      "<li class=\"item-1\"><a href=\"link2.html\">2nd item</a></li>\n",
      "            \n",
      "<li class=\"item-1 active\"><a href=\"link4.html\">4th item</a></li>\n",
      "            <li class=\"item-0\"><a href=\"link5.html\">5th item</a></li>\n",
      "        \n",
      "<li class=\"item-1\"><a href=\"link2.html\">2nd item</a></li>\n",
      "            <li class=\"item-1 active\"><a href=\"link4.html\">4th item</a></li>\n",
      "            \n",
      "<li class=\"item-1\"><a href=\"link2.html\">2nd item</a></li>\n",
      "            \n"
     ]
    }
   ],
   "source": [
    "html = '''\n",
    "<div class='wrap'>\n",
    "    <div id='container'>\n",
    "        <ul class='list'>\n",
    "            <li class='item-0'>1st item</li>\n",
    "            <li class='item-1'><a href='link2.html'>2nd item</a></li>\n",
    "            <li class='item-0 active'><a href='link3.html'><span class='bold'>3rd item</span></a></li>\n",
    "            <li class='item-1 active'><a href='link4.html'>4th item</a></li>\n",
    "            <li class='item-0'><a href='link5.html'>5th item</a></li>\n",
    "        </ul>\n",
    "    </div>\n",
    "</div>\n",
    "'''\n",
    "\n",
    "from pyquery import PyQuery as pq\n",
    "doc = pq(html)\n",
    "\n",
    "li = doc('li:first-child')\n",
    "print(li)\n",
    "\n",
    "li = doc('li:last-child')\n",
    "print(li)\n",
    "\n",
    "li = doc('li:nth-child(2)')\n",
    "print(li)\n",
    "\n",
    "li = doc('li:gt(2)')\n",
    "print(li)\n",
    "\n",
    "li = doc('li:nth-child(2n)')\n",
    "print(li)\n",
    "\n",
    "li = doc('li:contains(nd)') #包含2nd的\n",
    "print(li)"
   ]
  },
  {
   "cell_type": "markdown",
   "metadata": {},
   "source": [
    "更多的CSS選擇器: http://www.w3school.com.cn/css/index.asp"
   ]
  },
  {
   "cell_type": "markdown",
   "metadata": {},
   "source": [
    "# 官方文檔"
   ]
  },
  {
   "cell_type": "markdown",
   "metadata": {},
   "source": [
    "http://pyquery.readthedocs.io/"
   ]
  },
  {
   "cell_type": "code",
   "execution_count": null,
   "metadata": {
    "collapsed": true
   },
   "outputs": [],
   "source": []
  }
 ],
 "metadata": {
  "kernelspec": {
   "display_name": "Python 3",
   "language": "python",
   "name": "python3"
  },
  "language_info": {
   "codemirror_mode": {
    "name": "ipython",
    "version": 3
   },
   "file_extension": ".py",
   "mimetype": "text/x-python",
   "name": "python",
   "nbconvert_exporter": "python",
   "pygments_lexer": "ipython3",
   "version": "3.6.1"
  }
 },
 "nbformat": 4,
 "nbformat_minor": 2
}
