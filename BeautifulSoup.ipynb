{
 "cells": [
  {
   "cell_type": "markdown",
   "metadata": {},
   "source": [
    "# 解析庫"
   ]
  },
  {
   "cell_type": "raw",
   "metadata": {},
   "source": [
    "BeautifulSoup(markup, \"html.parser\")\n",
    "BeautifulSoup(markup, \"lxml\")\n",
    "BeautifulSoup(markup, \"xml\")\n",
    "BeautifulSoup(markup, \"html5lib\")"
   ]
  },
  {
   "cell_type": "markdown",
   "metadata": {
    "collapsed": true
   },
   "source": [
    "# 基本使用"
   ]
  },
  {
   "cell_type": "code",
   "execution_count": 7,
   "metadata": {},
   "outputs": [
    {
     "name": "stdout",
     "output_type": "stream",
     "text": [
      "﻿\n",
      "<!DOCTYPE html PUBLIC \"-//W3C//DTD XHTML 1.0 Transitional//EN\" \"http://www.w3.org/TR/xhtml1/DTD/xhtml1-transitional.dtd\">\n",
      "<html xmlns=\"http://www.w3.org/1999/xhtml\">\n",
      " <head>\n",
      "  <meta content=\"text/html; charset=utf-8\" http-equiv=\"Content-Type\"/>\n",
      "  <title>\n",
      "   NTU Mail-臺灣大學電子郵件系統\n",
      "  </title>\n",
      "  <link href=\"images/style.css\" rel=\"stylesheet\" type=\"text/css\"/>\n",
      " </head>\n",
      " <body>\n",
      "  <div id=\"top\">\n",
      "   |\n",
      "   <a href=\"http://www.ntu.edu.tw/\">\n",
      "    臺大首頁 NTU Home\n",
      "   </a>\n",
      "   |\n",
      "   <a href=\"http://www.cc.ntu.edu.tw/\">\n",
      "    計中首頁\n",
      "   </a>\n",
      "   |\n",
      "  </div>\n",
      "  <div id=\"wrapper\">\n",
      "   <div id=\"banner\">\n",
      "   </div>\n",
      "   <div id=\"mail\">\n",
      "    <div id=\"imgcss\">\n",
      "     <img src=\"images/mail20.png\"/>\n",
      "    </div>\n",
      "    <div id=\"content\">\n",
      "     <h1>\n",
      "      <a href=\"https://mail.ntu.edu.tw/\">\n",
      "       NTU Mail 2.0\n",
      "      </a>\n",
      "     </h1>\n",
      "     <ul>\n",
      "      <li>\n",
      "       <img align=\"absmiddle\" src=\"images/face01-01.gif\"/>\n",
      "       服務對象\n",
      "       <ol>\n",
      "        <li>\n",
      "         教職員帳號 \\ Faculty Account\n",
      "        </li>\n",
      "        <li>\n",
      "         公務、計畫、及短期帳號 \\ Project and Short Term Account\n",
      "        </li>\n",
      "        <li>\n",
      "         所有在學學生帳號 \\ Internal Student Account\n",
      "        </li>\n",
      "       </ol>\n",
      "      </li>\n",
      "      <li>\n",
      "       <img align=\"absmiddle\" src=\"images/m02-05-2.gif\"/>\n",
      "       立即前往 Go to\n",
      "       <a href=\"https://mail.ntu.edu.tw/\">\n",
      "        Mail 2.0\n",
      "       </a>\n",
      "      </li>\n",
      "      <li>\n",
      "       <img align=\"absmiddle\" src=\"images/ic04-04.gif\"/>\n",
      "       <a href=\"http://www.cc.ntu.edu.tw/mail2.0/\">\n",
      "        Mail 2.0 FAQ\n",
      "       </a>\n",
      "      </li>\n",
      "     </ul>\n",
      "    </div>\n",
      "    <!--content end-->\n",
      "   </div>\n",
      "   <!--mail end-->\n",
      "   <div id=\"webmail\">\n",
      "    <div id=\"imgcss\">\n",
      "     <img src=\"images/webmail.png\"/>\n",
      "    </div>\n",
      "    <div id=\"content\">\n",
      "     <h1>\n",
      "      <a href=\"http://webmail.ntu.edu.tw/\">\n",
      "       NTU Mail 1.0 (Webmail 1.0)\n",
      "      </a>\n",
      "     </h1>\n",
      "     <ul>\n",
      "      <li>\n",
      "       <img align=\"absmiddle\" src=\"images/face01-01.gif\"/>\n",
      "       服務對象\n",
      "       <ol>\n",
      "        <li>\n",
      "         校友帳號 \\ Alumni Account\n",
      "        </li>\n",
      "        <li>\n",
      "         醫院員工帳號 \\ Hospital Staff Account\n",
      "        </li>\n",
      "       </ol>\n",
      "      </li>\n",
      "      <li>\n",
      "       <img align=\"absmiddle\" src=\"images/m02-05-2.gif\"/>\n",
      "       立即前往 Go to\n",
      "       <a href=\"http://webmail.ntu.edu.tw/\">\n",
      "        Webmail 1.0\n",
      "       </a>\n",
      "      </li>\n",
      "      <li>\n",
      "       <img align=\"absmiddle\" src=\"images/ic04-04.gif\"/>\n",
      "       <a href=\"http://jsc.cc.ntu.edu.tw/ntucc/email/\">\n",
      "        Webmail FAQ\n",
      "       </a>\n",
      "      </li>\n",
      "     </ul>\n",
      "    </div>\n",
      "    <!--content end-->\n",
      "   </div>\n",
      "   <!--webmail end-->\n",
      "  </div>\n",
      "  <!--wrapper end-->\n",
      "  <div id=\"footer\">\n",
      "   Copyright 臺灣大學 National Taiwan University\n",
      "   <br/>\n",
      "   諮詢服務電話:(02)3366-5022或3366-5023\n",
      "   <br/>\n",
      "   諮詢服務信箱：cchelp@ntu.edu.tw\n",
      "  </div>\n",
      " </body>\n",
      "</html>\n",
      "\n",
      "NTU Mail-臺灣大學電子郵件系統\n"
     ]
    }
   ],
   "source": [
    "#引入requests好爬取html檔案給bs4使用\n",
    "import requests\n",
    "response = requests.get('http://ntumail.cc.ntu.edu.tw')\n",
    "response.encoding = 'UTF-8' #加入encoding的方法避免中文亂碼\n",
    "html = response.text\n",
    "\n",
    "from bs4 import BeautifulSoup\n",
    "soup = BeautifulSoup(html,'html.parser')\n",
    "\n",
    "print(soup.prettify()) #會把html漂亮輸出\n",
    "print(soup.title.string)"
   ]
  },
  {
   "cell_type": "markdown",
   "metadata": {},
   "source": [
    "# 標籤選擇器"
   ]
  },
  {
   "cell_type": "markdown",
   "metadata": {},
   "source": [
    "## 選擇元素"
   ]
  },
  {
   "cell_type": "code",
   "execution_count": 10,
   "metadata": {},
   "outputs": [
    {
     "name": "stdout",
     "output_type": "stream",
     "text": [
      "<title>NTU Mail-臺灣大學電子郵件系統</title>\n",
      "<class 'bs4.element.Tag'>\n",
      "<head>\n",
      "<meta content=\"text/html; charset=utf-8\" http-equiv=\"Content-Type\"/>\n",
      "<title>NTU Mail-臺灣大學電子郵件系統</title>\n",
      "<link href=\"images/style.css\" rel=\"stylesheet\" type=\"text/css\"/>\n",
      "</head>\n",
      "<a href=\"http://www.ntu.edu.tw/\">臺大首頁 NTU Home</a>\n"
     ]
    }
   ],
   "source": [
    "#引入requests好爬取html檔案給bs4使用\n",
    "import requests\n",
    "response = requests.get('http://ntumail.cc.ntu.edu.tw')\n",
    "response.encoding = 'UTF-8' #加入encoding的方法避免中文亂碼\n",
    "html = response.text\n",
    "\n",
    "from bs4 import BeautifulSoup\n",
    "soup = BeautifulSoup(html,'lxml')\n",
    "\n",
    "#印出物包含外框標籤\n",
    "print(soup.title) \n",
    "print(type(soup.title)) #回傳一個tag\n",
    "print(soup.head)\n",
    "print(soup.a) #顯示第一個match的結果"
   ]
  },
  {
   "cell_type": "markdown",
   "metadata": {},
   "source": [
    "## 獲取名稱、內容"
   ]
  },
  {
   "cell_type": "code",
   "execution_count": 12,
   "metadata": {},
   "outputs": [
    {
     "name": "stdout",
     "output_type": "stream",
     "text": [
      "title\n",
      "NTU Mail-臺灣大學電子郵件系統\n"
     ]
    }
   ],
   "source": [
    "#引入requests好爬取html檔案給bs4使用\n",
    "import requests\n",
    "response = requests.get('http://ntumail.cc.ntu.edu.tw')\n",
    "response.encoding = 'UTF-8' #加入encoding的方法避免中文亂碼\n",
    "html = response.text\n",
    "\n",
    "from bs4 import BeautifulSoup\n",
    "soup = BeautifulSoup(html,'lxml')\n",
    "\n",
    "print(soup.title.name) #列印tag名稱\n",
    "print(soup.title.string) #列印tag裡面的內容"
   ]
  },
  {
   "cell_type": "markdown",
   "metadata": {},
   "source": [
    "## 獲取屬性"
   ]
  },
  {
   "cell_type": "code",
   "execution_count": 16,
   "metadata": {},
   "outputs": [
    {
     "name": "stdout",
     "output_type": "stream",
     "text": [
      "images/mail20.png\n",
      "images/mail20.png\n"
     ]
    }
   ],
   "source": [
    "#引入requests好爬取html檔案給bs4使用\n",
    "import requests\n",
    "response = requests.get('http://ntumail.cc.ntu.edu.tw')\n",
    "response.encoding = 'UTF-8' #加入encoding的方法避免中文亂碼\n",
    "html = response.text\n",
    "\n",
    "from bs4 import BeautifulSoup\n",
    "soup = BeautifulSoup(html,'lxml')\n",
    "\n",
    "#列印attribute\n",
    "print(soup.img.attrs['src'])\n",
    "print(soup.img['src'])"
   ]
  },
  {
   "cell_type": "markdown",
   "metadata": {},
   "source": [
    "## 嵌套選擇"
   ]
  },
  {
   "cell_type": "code",
   "execution_count": 17,
   "metadata": {},
   "outputs": [
    {
     "name": "stdout",
     "output_type": "stream",
     "text": [
      "NTU Mail-臺灣大學電子郵件系統\n"
     ]
    }
   ],
   "source": [
    "#引入requests好爬取html檔案給bs4使用\n",
    "import requests\n",
    "response = requests.get('http://ntumail.cc.ntu.edu.tw')\n",
    "response.encoding = 'UTF-8' #加入encoding的方法避免中文亂碼\n",
    "html = response.text\n",
    "\n",
    "from bs4 import BeautifulSoup\n",
    "soup = BeautifulSoup(html,'lxml')\n",
    "\n",
    "print(soup.head.title.string) #選擇head裡的title的文本"
   ]
  },
  {
   "cell_type": "markdown",
   "metadata": {},
   "source": [
    "## 子節點、子孫節點"
   ]
  },
  {
   "cell_type": "code",
   "execution_count": 18,
   "metadata": {},
   "outputs": [
    {
     "name": "stdout",
     "output_type": "stream",
     "text": [
      "['\\n', <meta content=\"text/html; charset=utf-8\" http-equiv=\"Content-Type\"/>, '\\n', <title>NTU Mail-臺灣大學電子郵件系統</title>, '\\n', <link href=\"images/style.css\" rel=\"stylesheet\" type=\"text/css\"/>, '\\n']\n"
     ]
    }
   ],
   "source": [
    "#引入requests好爬取html檔案給bs4使用\n",
    "import requests\n",
    "response = requests.get('http://ntumail.cc.ntu.edu.tw')\n",
    "response.encoding = 'UTF-8' #加入encoding的方法避免中文亂碼\n",
    "html = response.text\n",
    "\n",
    "from bs4 import BeautifulSoup\n",
    "soup = BeautifulSoup(html,'lxml')\n",
    "\n",
    "#獲取所有子節點，返回list\n",
    "print(soup.head.contents) #把head裡的文本按照行數讀取出來 "
   ]
  },
  {
   "cell_type": "code",
   "execution_count": 19,
   "metadata": {},
   "outputs": [
    {
     "name": "stdout",
     "output_type": "stream",
     "text": [
      "<list_iterator object at 0x00000290B7304BA8>\n",
      "0 \n",
      "\n",
      "1 <meta content=\"text/html; charset=utf-8\" http-equiv=\"Content-Type\"/>\n",
      "2 \n",
      "\n",
      "3 <title>NTU Mail-臺灣大學電子郵件系統</title>\n",
      "4 \n",
      "\n",
      "5 <link href=\"images/style.css\" rel=\"stylesheet\" type=\"text/css\"/>\n",
      "6 \n",
      "\n"
     ]
    }
   ],
   "source": [
    "#引入requests好爬取html檔案給bs4使用\n",
    "import requests\n",
    "response = requests.get('http://ntumail.cc.ntu.edu.tw')\n",
    "response.encoding = 'UTF-8' #加入encoding的方法避免中文亂碼\n",
    "html = response.text\n",
    "\n",
    "from bs4 import BeautifulSoup\n",
    "soup = BeautifulSoup(html,'lxml')\n",
    "\n",
    "#獲取所有子節點，返回迭代器，不是list\n",
    "print(soup.head.children)\n",
    "\n",
    "#i是索引，child是內容\n",
    "for i, child in enumerate(soup.head.children):\n",
    "    print(i, child) "
   ]
  },
  {
   "cell_type": "code",
   "execution_count": 20,
   "metadata": {},
   "outputs": [
    {
     "name": "stdout",
     "output_type": "stream",
     "text": [
      "<generator object descendants at 0x00000290B724A0A0>\n",
      "0 \n",
      "\n",
      "1 <meta content=\"text/html; charset=utf-8\" http-equiv=\"Content-Type\"/>\n",
      "2 \n",
      "\n",
      "3 <title>NTU Mail-臺灣大學電子郵件系統</title>\n",
      "4 NTU Mail-臺灣大學電子郵件系統\n",
      "5 \n",
      "\n",
      "6 <link href=\"images/style.css\" rel=\"stylesheet\" type=\"text/css\"/>\n",
      "7 \n",
      "\n"
     ]
    }
   ],
   "source": [
    "#引入requests好爬取html檔案給bs4使用\n",
    "import requests\n",
    "response = requests.get('http://ntumail.cc.ntu.edu.tw')\n",
    "response.encoding = 'UTF-8' #加入encoding的方法避免中文亂碼\n",
    "html = response.text\n",
    "\n",
    "from bs4 import BeautifulSoup\n",
    "soup = BeautifulSoup(html,'lxml')\n",
    "\n",
    "#獲取所有子孫節點，返回迭代器，不是list\n",
    "print(soup.head.descendants)\n",
    "\n",
    "#i是索引，child是內容\n",
    "for i, child in enumerate(soup.head.descendants):\n",
    "    print(i, child) "
   ]
  },
  {
   "cell_type": "markdown",
   "metadata": {},
   "source": [
    "## 父節點、祖父節點"
   ]
  },
  {
   "cell_type": "code",
   "execution_count": 22,
   "metadata": {},
   "outputs": [
    {
     "name": "stdout",
     "output_type": "stream",
     "text": [
      "<div id=\"imgcss\"><img src=\"images/mail20.png\"/></div>\n"
     ]
    }
   ],
   "source": [
    "#引入requests好爬取html檔案給bs4使用\n",
    "import requests\n",
    "response = requests.get('http://ntumail.cc.ntu.edu.tw')\n",
    "response.encoding = 'UTF-8' #加入encoding的方法避免中文亂碼\n",
    "html = response.text\n",
    "\n",
    "from bs4 import BeautifulSoup\n",
    "soup = BeautifulSoup(html,'lxml')\n",
    "\n",
    "#獲取所有父節點\n",
    "print(soup.img.parent)"
   ]
  },
  {
   "cell_type": "code",
   "execution_count": 23,
   "metadata": {},
   "outputs": [
    {
     "name": "stdout",
     "output_type": "stream",
     "text": [
      "[(0, <div id=\"imgcss\"><img src=\"images/mail20.png\"/></div>), (1, <div id=\"mail\">\n",
      "<div id=\"imgcss\"><img src=\"images/mail20.png\"/></div>\n",
      "<div id=\"content\">\n",
      "<h1><a href=\"https://mail.ntu.edu.tw/\">NTU Mail 2.0</a></h1>\n",
      "<ul>\n",
      "<li><img align=\"absmiddle\" src=\"images/face01-01.gif\"/> 服務對象\r\n",
      "            \t<ol>\n",
      "<li>教職員帳號 \\ Faculty Account</li>\n",
      "<li>公務、計畫、及短期帳號 \\ Project and Short Term Account</li>\n",
      "<li>所有在學學生帳號 \\ Internal Student Account</li>\n",
      "</ol>\n",
      "</li>\n",
      "<li><img align=\"absmiddle\" src=\"images/m02-05-2.gif\"/> 立即前往 Go to <a href=\"https://mail.ntu.edu.tw/\">Mail 2.0</a></li>\n",
      "<li><img align=\"absmiddle\" src=\"images/ic04-04.gif\"/> <a href=\"http://www.cc.ntu.edu.tw/mail2.0/\">Mail 2.0 FAQ</a></li>\n",
      "</ul>\n",
      "</div><!--content end-->\n",
      "</div>), (2, <div id=\"wrapper\">\n",
      "<div id=\"banner\"></div>\n",
      "<div id=\"mail\">\n",
      "<div id=\"imgcss\"><img src=\"images/mail20.png\"/></div>\n",
      "<div id=\"content\">\n",
      "<h1><a href=\"https://mail.ntu.edu.tw/\">NTU Mail 2.0</a></h1>\n",
      "<ul>\n",
      "<li><img align=\"absmiddle\" src=\"images/face01-01.gif\"/> 服務對象\r\n",
      "            \t<ol>\n",
      "<li>教職員帳號 \\ Faculty Account</li>\n",
      "<li>公務、計畫、及短期帳號 \\ Project and Short Term Account</li>\n",
      "<li>所有在學學生帳號 \\ Internal Student Account</li>\n",
      "</ol>\n",
      "</li>\n",
      "<li><img align=\"absmiddle\" src=\"images/m02-05-2.gif\"/> 立即前往 Go to <a href=\"https://mail.ntu.edu.tw/\">Mail 2.0</a></li>\n",
      "<li><img align=\"absmiddle\" src=\"images/ic04-04.gif\"/> <a href=\"http://www.cc.ntu.edu.tw/mail2.0/\">Mail 2.0 FAQ</a></li>\n",
      "</ul>\n",
      "</div><!--content end-->\n",
      "</div><!--mail end-->\n",
      "<div id=\"webmail\">\n",
      "<div id=\"imgcss\"><img src=\"images/webmail.png\"/></div>\n",
      "<div id=\"content\">\n",
      "<h1><a href=\"http://webmail.ntu.edu.tw/\">NTU Mail 1.0 (Webmail 1.0)</a></h1>\n",
      "<ul>\n",
      "<li><img align=\"absmiddle\" src=\"images/face01-01.gif\"/> 服務對象\r\n",
      "            \t<ol>\n",
      "<li>校友帳號 \\ Alumni Account</li>\n",
      "<li>醫院員工帳號 \\ Hospital Staff Account</li>\n",
      "</ol>\n",
      "</li>\n",
      "<li><img align=\"absmiddle\" src=\"images/m02-05-2.gif\"/> 立即前往 Go to <a href=\"http://webmail.ntu.edu.tw/\">Webmail 1.0</a></li>\n",
      "<li><img align=\"absmiddle\" src=\"images/ic04-04.gif\"/> <a href=\"http://jsc.cc.ntu.edu.tw/ntucc/email/\">Webmail FAQ</a></li>\n",
      "</ul>\n",
      "</div><!--content end-->\n",
      "</div><!--webmail end-->\n",
      "</div>), (3, <body>\n",
      "<div id=\"top\">| <a href=\"http://www.ntu.edu.tw/\">臺大首頁 NTU Home</a> | <a href=\"http://www.cc.ntu.edu.tw/\">計中首頁</a>  |</div>\n",
      "<div id=\"wrapper\">\n",
      "<div id=\"banner\"></div>\n",
      "<div id=\"mail\">\n",
      "<div id=\"imgcss\"><img src=\"images/mail20.png\"/></div>\n",
      "<div id=\"content\">\n",
      "<h1><a href=\"https://mail.ntu.edu.tw/\">NTU Mail 2.0</a></h1>\n",
      "<ul>\n",
      "<li><img align=\"absmiddle\" src=\"images/face01-01.gif\"/> 服務對象\r\n",
      "            \t<ol>\n",
      "<li>教職員帳號 \\ Faculty Account</li>\n",
      "<li>公務、計畫、及短期帳號 \\ Project and Short Term Account</li>\n",
      "<li>所有在學學生帳號 \\ Internal Student Account</li>\n",
      "</ol>\n",
      "</li>\n",
      "<li><img align=\"absmiddle\" src=\"images/m02-05-2.gif\"/> 立即前往 Go to <a href=\"https://mail.ntu.edu.tw/\">Mail 2.0</a></li>\n",
      "<li><img align=\"absmiddle\" src=\"images/ic04-04.gif\"/> <a href=\"http://www.cc.ntu.edu.tw/mail2.0/\">Mail 2.0 FAQ</a></li>\n",
      "</ul>\n",
      "</div><!--content end-->\n",
      "</div><!--mail end-->\n",
      "<div id=\"webmail\">\n",
      "<div id=\"imgcss\"><img src=\"images/webmail.png\"/></div>\n",
      "<div id=\"content\">\n",
      "<h1><a href=\"http://webmail.ntu.edu.tw/\">NTU Mail 1.0 (Webmail 1.0)</a></h1>\n",
      "<ul>\n",
      "<li><img align=\"absmiddle\" src=\"images/face01-01.gif\"/> 服務對象\r\n",
      "            \t<ol>\n",
      "<li>校友帳號 \\ Alumni Account</li>\n",
      "<li>醫院員工帳號 \\ Hospital Staff Account</li>\n",
      "</ol>\n",
      "</li>\n",
      "<li><img align=\"absmiddle\" src=\"images/m02-05-2.gif\"/> 立即前往 Go to <a href=\"http://webmail.ntu.edu.tw/\">Webmail 1.0</a></li>\n",
      "<li><img align=\"absmiddle\" src=\"images/ic04-04.gif\"/> <a href=\"http://jsc.cc.ntu.edu.tw/ntucc/email/\">Webmail FAQ</a></li>\n",
      "</ul>\n",
      "</div><!--content end-->\n",
      "</div><!--webmail end-->\n",
      "</div><!--wrapper end-->\n",
      "<div id=\"footer\">Copyright 臺灣大學 National Taiwan University<br/>\r\n",
      "諮詢服務電話:(02)3366-5022或3366-5023<br/>\r\n",
      "諮詢服務信箱：cchelp@ntu.edu.tw</div>\n",
      "</body>), (4, <html xmlns=\"http://www.w3.org/1999/xhtml\">\n",
      "<head>\n",
      "<meta content=\"text/html; charset=utf-8\" http-equiv=\"Content-Type\"/>\n",
      "<title>NTU Mail-臺灣大學電子郵件系統</title>\n",
      "<link href=\"images/style.css\" rel=\"stylesheet\" type=\"text/css\"/>\n",
      "</head>\n",
      "<body>\n",
      "<div id=\"top\">| <a href=\"http://www.ntu.edu.tw/\">臺大首頁 NTU Home</a> | <a href=\"http://www.cc.ntu.edu.tw/\">計中首頁</a>  |</div>\n",
      "<div id=\"wrapper\">\n",
      "<div id=\"banner\"></div>\n",
      "<div id=\"mail\">\n",
      "<div id=\"imgcss\"><img src=\"images/mail20.png\"/></div>\n",
      "<div id=\"content\">\n",
      "<h1><a href=\"https://mail.ntu.edu.tw/\">NTU Mail 2.0</a></h1>\n",
      "<ul>\n",
      "<li><img align=\"absmiddle\" src=\"images/face01-01.gif\"/> 服務對象\r\n",
      "            \t<ol>\n",
      "<li>教職員帳號 \\ Faculty Account</li>\n",
      "<li>公務、計畫、及短期帳號 \\ Project and Short Term Account</li>\n",
      "<li>所有在學學生帳號 \\ Internal Student Account</li>\n",
      "</ol>\n",
      "</li>\n",
      "<li><img align=\"absmiddle\" src=\"images/m02-05-2.gif\"/> 立即前往 Go to <a href=\"https://mail.ntu.edu.tw/\">Mail 2.0</a></li>\n",
      "<li><img align=\"absmiddle\" src=\"images/ic04-04.gif\"/> <a href=\"http://www.cc.ntu.edu.tw/mail2.0/\">Mail 2.0 FAQ</a></li>\n",
      "</ul>\n",
      "</div><!--content end-->\n",
      "</div><!--mail end-->\n",
      "<div id=\"webmail\">\n",
      "<div id=\"imgcss\"><img src=\"images/webmail.png\"/></div>\n",
      "<div id=\"content\">\n",
      "<h1><a href=\"http://webmail.ntu.edu.tw/\">NTU Mail 1.0 (Webmail 1.0)</a></h1>\n",
      "<ul>\n",
      "<li><img align=\"absmiddle\" src=\"images/face01-01.gif\"/> 服務對象\r\n",
      "            \t<ol>\n",
      "<li>校友帳號 \\ Alumni Account</li>\n",
      "<li>醫院員工帳號 \\ Hospital Staff Account</li>\n",
      "</ol>\n",
      "</li>\n",
      "<li><img align=\"absmiddle\" src=\"images/m02-05-2.gif\"/> 立即前往 Go to <a href=\"http://webmail.ntu.edu.tw/\">Webmail 1.0</a></li>\n",
      "<li><img align=\"absmiddle\" src=\"images/ic04-04.gif\"/> <a href=\"http://jsc.cc.ntu.edu.tw/ntucc/email/\">Webmail FAQ</a></li>\n",
      "</ul>\n",
      "</div><!--content end-->\n",
      "</div><!--webmail end-->\n",
      "</div><!--wrapper end-->\n",
      "<div id=\"footer\">Copyright 臺灣大學 National Taiwan University<br/>\r\n",
      "諮詢服務電話:(02)3366-5022或3366-5023<br/>\r\n",
      "諮詢服務信箱：cchelp@ntu.edu.tw</div>\n",
      "</body>\n",
      "</html>), (5, <!DOCTYPE html PUBLIC \"-//W3C//DTD XHTML 1.0 Transitional//EN\" \"http://www.w3.org/TR/xhtml1/DTD/xhtml1-transitional.dtd\">\n",
      "<html xmlns=\"http://www.w3.org/1999/xhtml\">\n",
      "<head>\n",
      "<meta content=\"text/html; charset=utf-8\" http-equiv=\"Content-Type\"/>\n",
      "<title>NTU Mail-臺灣大學電子郵件系統</title>\n",
      "<link href=\"images/style.css\" rel=\"stylesheet\" type=\"text/css\"/>\n",
      "</head>\n",
      "<body>\n",
      "<div id=\"top\">| <a href=\"http://www.ntu.edu.tw/\">臺大首頁 NTU Home</a> | <a href=\"http://www.cc.ntu.edu.tw/\">計中首頁</a>  |</div>\n",
      "<div id=\"wrapper\">\n",
      "<div id=\"banner\"></div>\n",
      "<div id=\"mail\">\n",
      "<div id=\"imgcss\"><img src=\"images/mail20.png\"/></div>\n",
      "<div id=\"content\">\n",
      "<h1><a href=\"https://mail.ntu.edu.tw/\">NTU Mail 2.0</a></h1>\n",
      "<ul>\n",
      "<li><img align=\"absmiddle\" src=\"images/face01-01.gif\"/> 服務對象\r\n",
      "            \t<ol>\n",
      "<li>教職員帳號 \\ Faculty Account</li>\n",
      "<li>公務、計畫、及短期帳號 \\ Project and Short Term Account</li>\n",
      "<li>所有在學學生帳號 \\ Internal Student Account</li>\n",
      "</ol>\n",
      "</li>\n",
      "<li><img align=\"absmiddle\" src=\"images/m02-05-2.gif\"/> 立即前往 Go to <a href=\"https://mail.ntu.edu.tw/\">Mail 2.0</a></li>\n",
      "<li><img align=\"absmiddle\" src=\"images/ic04-04.gif\"/> <a href=\"http://www.cc.ntu.edu.tw/mail2.0/\">Mail 2.0 FAQ</a></li>\n",
      "</ul>\n",
      "</div><!--content end-->\n",
      "</div><!--mail end-->\n",
      "<div id=\"webmail\">\n",
      "<div id=\"imgcss\"><img src=\"images/webmail.png\"/></div>\n",
      "<div id=\"content\">\n",
      "<h1><a href=\"http://webmail.ntu.edu.tw/\">NTU Mail 1.0 (Webmail 1.0)</a></h1>\n",
      "<ul>\n",
      "<li><img align=\"absmiddle\" src=\"images/face01-01.gif\"/> 服務對象\r\n",
      "            \t<ol>\n",
      "<li>校友帳號 \\ Alumni Account</li>\n",
      "<li>醫院員工帳號 \\ Hospital Staff Account</li>\n",
      "</ol>\n",
      "</li>\n",
      "<li><img align=\"absmiddle\" src=\"images/m02-05-2.gif\"/> 立即前往 Go to <a href=\"http://webmail.ntu.edu.tw/\">Webmail 1.0</a></li>\n",
      "<li><img align=\"absmiddle\" src=\"images/ic04-04.gif\"/> <a href=\"http://jsc.cc.ntu.edu.tw/ntucc/email/\">Webmail FAQ</a></li>\n",
      "</ul>\n",
      "</div><!--content end-->\n",
      "</div><!--webmail end-->\n",
      "</div><!--wrapper end-->\n",
      "<div id=\"footer\">Copyright 臺灣大學 National Taiwan University<br/>\r\n",
      "諮詢服務電話:(02)3366-5022或3366-5023<br/>\r\n",
      "諮詢服務信箱：cchelp@ntu.edu.tw</div>\n",
      "</body>\n",
      "</html>\n",
      ")]\n"
     ]
    }
   ],
   "source": [
    "#引入requests好爬取html檔案給bs4使用\n",
    "import requests\n",
    "response = requests.get('http://ntumail.cc.ntu.edu.tw')\n",
    "response.encoding = 'UTF-8' #加入encoding的方法避免中文亂碼\n",
    "html = response.text\n",
    "\n",
    "from bs4 import BeautifulSoup\n",
    "soup = BeautifulSoup(html,'lxml')\n",
    "\n",
    "#獲取所有祖先節點，要解析迭代器\n",
    "print(list(enumerate(soup.img.parents)))"
   ]
  },
  {
   "cell_type": "markdown",
   "metadata": {},
   "source": [
    "## 兄弟節點"
   ]
  },
  {
   "cell_type": "code",
   "execution_count": 27,
   "metadata": {},
   "outputs": [
    {
     "name": "stdout",
     "output_type": "stream",
     "text": [
      "[(0, '\\n'), (1, <div id=\"wrapper\">\n",
      "<div id=\"banner\"></div>\n",
      "<div id=\"mail\">\n",
      "<div id=\"imgcss\"><img src=\"images/mail20.png\"/></div>\n",
      "<div id=\"content\">\n",
      "<h1><a href=\"https://mail.ntu.edu.tw/\">NTU Mail 2.0</a></h1>\n",
      "<ul>\n",
      "<li><img align=\"absmiddle\" src=\"images/face01-01.gif\"/> 服務對象\r\n",
      "            \t<ol>\n",
      "<li>教職員帳號 \\ Faculty Account</li>\n",
      "<li>公務、計畫、及短期帳號 \\ Project and Short Term Account</li>\n",
      "<li>所有在學學生帳號 \\ Internal Student Account</li>\n",
      "</ol>\n",
      "</li>\n",
      "<li><img align=\"absmiddle\" src=\"images/m02-05-2.gif\"/> 立即前往 Go to <a href=\"https://mail.ntu.edu.tw/\">Mail 2.0</a></li>\n",
      "<li><img align=\"absmiddle\" src=\"images/ic04-04.gif\"/> <a href=\"http://www.cc.ntu.edu.tw/mail2.0/\">Mail 2.0 FAQ</a></li>\n",
      "</ul>\n",
      "</div><!--content end-->\n",
      "</div><!--mail end-->\n",
      "<div id=\"webmail\">\n",
      "<div id=\"imgcss\"><img src=\"images/webmail.png\"/></div>\n",
      "<div id=\"content\">\n",
      "<h1><a href=\"http://webmail.ntu.edu.tw/\">NTU Mail 1.0 (Webmail 1.0)</a></h1>\n",
      "<ul>\n",
      "<li><img align=\"absmiddle\" src=\"images/face01-01.gif\"/> 服務對象\r\n",
      "            \t<ol>\n",
      "<li>校友帳號 \\ Alumni Account</li>\n",
      "<li>醫院員工帳號 \\ Hospital Staff Account</li>\n",
      "</ol>\n",
      "</li>\n",
      "<li><img align=\"absmiddle\" src=\"images/m02-05-2.gif\"/> 立即前往 Go to <a href=\"http://webmail.ntu.edu.tw/\">Webmail 1.0</a></li>\n",
      "<li><img align=\"absmiddle\" src=\"images/ic04-04.gif\"/> <a href=\"http://jsc.cc.ntu.edu.tw/ntucc/email/\">Webmail FAQ</a></li>\n",
      "</ul>\n",
      "</div><!--content end-->\n",
      "</div><!--webmail end-->\n",
      "</div>), (2, 'wrapper end'), (3, '\\n'), (4, <div id=\"footer\">Copyright 臺灣大學 National Taiwan University<br/>\r\n",
      "諮詢服務電話:(02)3366-5022或3366-5023<br/>\r\n",
      "諮詢服務信箱：cchelp@ntu.edu.tw</div>), (5, '\\n')]\n",
      "[(0, '\\n')]\n"
     ]
    }
   ],
   "source": [
    "#引入requests好爬取html檔案給bs4使用\n",
    "import requests\n",
    "response = requests.get('http://ntumail.cc.ntu.edu.tw')\n",
    "response.encoding = 'UTF-8' #加入encoding的方法避免中文亂碼\n",
    "html = response.text\n",
    "\n",
    "from bs4 import BeautifulSoup\n",
    "soup = BeautifulSoup(html,'lxml')\n",
    "\n",
    "#獲取兄弟節點\n",
    "print(list(enumerate(soup.div.next_siblings)))\n",
    "print(list(enumerate(soup.div.previous_siblings)))"
   ]
  },
  {
   "cell_type": "markdown",
   "metadata": {},
   "source": [
    "# 標準選擇器"
   ]
  },
  {
   "cell_type": "markdown",
   "metadata": {},
   "source": [
    "### find_all(name, attrs, recursive, text, **kwargs)，找全部元素"
   ]
  },
  {
   "cell_type": "markdown",
   "metadata": {},
   "source": [
    "可以根據標籤名稱，屬性內容查找文檔"
   ]
  },
  {
   "cell_type": "markdown",
   "metadata": {},
   "source": [
    "### name"
   ]
  },
  {
   "cell_type": "code",
   "execution_count": 34,
   "metadata": {},
   "outputs": [
    {
     "name": "stdout",
     "output_type": "stream",
     "text": [
      "[<td>\n",
      "Vegetable Basket\n",
      "</td>, <td>\n",
      "This vegetable basket is the perfect gift for your health conscious (or overweight) friends!\n",
      "<span class=\"excitingNote\">Now with super-colorful bell peppers!</span>\n",
      "</td>, <td>\n",
      "$15.00\n",
      "</td>, <td>\n",
      "<img src=\"../img/gifts/img1.jpg\"/>\n",
      "</td>, <td>\n",
      "Russian Nesting Dolls\n",
      "</td>, <td>\n",
      "Hand-painted by trained monkeys, these exquisite dolls are priceless! And by \"priceless,\" we mean \"extremely expensive\"! <span class=\"excitingNote\">8 entire dolls per set! Octuple the presents!</span>\n",
      "</td>, <td>\n",
      "$10,000.52\n",
      "</td>, <td>\n",
      "<img src=\"../img/gifts/img2.jpg\"/>\n",
      "</td>, <td>\n",
      "Fish Painting\n",
      "</td>, <td>\n",
      "If something seems fishy about this painting, it's because it's a fish! <span class=\"excitingNote\">Also hand-painted by trained monkeys!</span>\n",
      "</td>, <td>\n",
      "$10,005.00\n",
      "</td>, <td>\n",
      "<img src=\"../img/gifts/img3.jpg\"/>\n",
      "</td>, <td>\n",
      "Dead Parrot\n",
      "</td>, <td>\n",
      "This is an ex-parrot! <span class=\"excitingNote\">Or maybe he's only resting?</span>\n",
      "</td>, <td>\n",
      "$0.50\n",
      "</td>, <td>\n",
      "<img src=\"../img/gifts/img4.jpg\"/>\n",
      "</td>, <td>\n",
      "Mystery Box\n",
      "</td>, <td>\n",
      "If you love suprises, this mystery box is for you! Do not place on light-colored surfaces. May cause oil staining. <span class=\"excitingNote\">Keep your friends guessing!</span>\n",
      "</td>, <td>\n",
      "$1.50\n",
      "</td>, <td>\n",
      "<img src=\"../img/gifts/img6.jpg\"/>\n",
      "</td>]\n",
      "<td>\n",
      "Vegetable Basket\n",
      "</td>\n"
     ]
    }
   ],
   "source": [
    "import requests\n",
    "response = requests.get('http://www.pythonscraping.com/pages/page3.html')\n",
    "response.encoding = 'UTF-8' #加入encoding的方法避免中文亂碼\n",
    "html = response.text\n",
    "\n",
    "from bs4 import BeautifulSoup\n",
    "soup = BeautifulSoup(html,'lxml')\n",
    "\n",
    "print(soup.find_all('td'))\n",
    "print(soup.find_all('td')[0])"
   ]
  },
  {
   "cell_type": "code",
   "execution_count": 36,
   "metadata": {},
   "outputs": [
    {
     "name": "stdout",
     "output_type": "stream",
     "text": [
      "[]\n",
      "[]\n",
      "[]\n",
      "[<img src=\"../img/gifts/img1.jpg\"/>]\n",
      "[]\n",
      "[]\n",
      "[]\n",
      "[<img src=\"../img/gifts/img2.jpg\"/>]\n",
      "[]\n",
      "[]\n",
      "[]\n",
      "[<img src=\"../img/gifts/img3.jpg\"/>]\n",
      "[]\n",
      "[]\n",
      "[]\n",
      "[<img src=\"../img/gifts/img4.jpg\"/>]\n",
      "[]\n",
      "[]\n",
      "[]\n",
      "[<img src=\"../img/gifts/img6.jpg\"/>]\n"
     ]
    }
   ],
   "source": [
    "import requests\n",
    "response = requests.get('http://www.pythonscraping.com/pages/page3.html')\n",
    "response.encoding = 'UTF-8' #加入encoding的方法避免中文亂碼\n",
    "html = response.text\n",
    "\n",
    "from bs4 import BeautifulSoup\n",
    "soup = BeautifulSoup(html,'lxml')\n",
    "\n",
    "#從標籤td底下再次提取內容img\n",
    "for td in soup.find_all('td'):\n",
    "    print(td.find_all('img'))"
   ]
  },
  {
   "cell_type": "markdown",
   "metadata": {},
   "source": [
    "### attrs"
   ]
  },
  {
   "cell_type": "code",
   "execution_count": 40,
   "metadata": {},
   "outputs": [
    {
     "name": "stdout",
     "output_type": "stream",
     "text": [
      "[<tr class=\"gift\" id=\"gift1\"><td>\n",
      "Vegetable Basket\n",
      "</td><td>\n",
      "This vegetable basket is the perfect gift for your health conscious (or overweight) friends!\n",
      "<span class=\"excitingNote\">Now with super-colorful bell peppers!</span>\n",
      "</td><td>\n",
      "$15.00\n",
      "</td><td>\n",
      "<img src=\"../img/gifts/img1.jpg\"/>\n",
      "</td></tr>]\n",
      "[<tr class=\"gift\" id=\"gift1\"><td>\n",
      "Vegetable Basket\n",
      "</td><td>\n",
      "This vegetable basket is the perfect gift for your health conscious (or overweight) friends!\n",
      "<span class=\"excitingNote\">Now with super-colorful bell peppers!</span>\n",
      "</td><td>\n",
      "$15.00\n",
      "</td><td>\n",
      "<img src=\"../img/gifts/img1.jpg\"/>\n",
      "</td></tr>, <tr class=\"gift\" id=\"gift2\"><td>\n",
      "Russian Nesting Dolls\n",
      "</td><td>\n",
      "Hand-painted by trained monkeys, these exquisite dolls are priceless! And by \"priceless,\" we mean \"extremely expensive\"! <span class=\"excitingNote\">8 entire dolls per set! Octuple the presents!</span>\n",
      "</td><td>\n",
      "$10,000.52\n",
      "</td><td>\n",
      "<img src=\"../img/gifts/img2.jpg\"/>\n",
      "</td></tr>, <tr class=\"gift\" id=\"gift3\"><td>\n",
      "Fish Painting\n",
      "</td><td>\n",
      "If something seems fishy about this painting, it's because it's a fish! <span class=\"excitingNote\">Also hand-painted by trained monkeys!</span>\n",
      "</td><td>\n",
      "$10,005.00\n",
      "</td><td>\n",
      "<img src=\"../img/gifts/img3.jpg\"/>\n",
      "</td></tr>, <tr class=\"gift\" id=\"gift4\"><td>\n",
      "Dead Parrot\n",
      "</td><td>\n",
      "This is an ex-parrot! <span class=\"excitingNote\">Or maybe he's only resting?</span>\n",
      "</td><td>\n",
      "$0.50\n",
      "</td><td>\n",
      "<img src=\"../img/gifts/img4.jpg\"/>\n",
      "</td></tr>, <tr class=\"gift\" id=\"gift5\"><td>\n",
      "Mystery Box\n",
      "</td><td>\n",
      "If you love suprises, this mystery box is for you! Do not place on light-colored surfaces. May cause oil staining. <span class=\"excitingNote\">Keep your friends guessing!</span>\n",
      "</td><td>\n",
      "$1.50\n",
      "</td><td>\n",
      "<img src=\"../img/gifts/img6.jpg\"/>\n",
      "</td></tr>]\n"
     ]
    }
   ],
   "source": [
    "import requests\n",
    "response = requests.get('http://www.pythonscraping.com/pages/page3.html')\n",
    "response.encoding = 'UTF-8' #加入encoding的方法避免中文亂碼\n",
    "html = response.text\n",
    "\n",
    "from bs4 import BeautifulSoup\n",
    "soup = BeautifulSoup(html,'lxml')\n",
    "\n",
    "print(soup.find_all(attrs={'id':'gift1'}))\n",
    "print(soup.find_all(attrs={'class':'gift'}))"
   ]
  },
  {
   "cell_type": "code",
   "execution_count": 43,
   "metadata": {},
   "outputs": [
    {
     "name": "stdout",
     "output_type": "stream",
     "text": [
      "[<tr class=\"gift\" id=\"gift1\"><td>\n",
      "Vegetable Basket\n",
      "</td><td>\n",
      "This vegetable basket is the perfect gift for your health conscious (or overweight) friends!\n",
      "<span class=\"excitingNote\">Now with super-colorful bell peppers!</span>\n",
      "</td><td>\n",
      "$15.00\n",
      "</td><td>\n",
      "<img src=\"../img/gifts/img1.jpg\"/>\n",
      "</td></tr>]\n",
      "[<tr class=\"gift\" id=\"gift1\"><td>\n",
      "Vegetable Basket\n",
      "</td><td>\n",
      "This vegetable basket is the perfect gift for your health conscious (or overweight) friends!\n",
      "<span class=\"excitingNote\">Now with super-colorful bell peppers!</span>\n",
      "</td><td>\n",
      "$15.00\n",
      "</td><td>\n",
      "<img src=\"../img/gifts/img1.jpg\"/>\n",
      "</td></tr>, <tr class=\"gift\" id=\"gift2\"><td>\n",
      "Russian Nesting Dolls\n",
      "</td><td>\n",
      "Hand-painted by trained monkeys, these exquisite dolls are priceless! And by \"priceless,\" we mean \"extremely expensive\"! <span class=\"excitingNote\">8 entire dolls per set! Octuple the presents!</span>\n",
      "</td><td>\n",
      "$10,000.52\n",
      "</td><td>\n",
      "<img src=\"../img/gifts/img2.jpg\"/>\n",
      "</td></tr>, <tr class=\"gift\" id=\"gift3\"><td>\n",
      "Fish Painting\n",
      "</td><td>\n",
      "If something seems fishy about this painting, it's because it's a fish! <span class=\"excitingNote\">Also hand-painted by trained monkeys!</span>\n",
      "</td><td>\n",
      "$10,005.00\n",
      "</td><td>\n",
      "<img src=\"../img/gifts/img3.jpg\"/>\n",
      "</td></tr>, <tr class=\"gift\" id=\"gift4\"><td>\n",
      "Dead Parrot\n",
      "</td><td>\n",
      "This is an ex-parrot! <span class=\"excitingNote\">Or maybe he's only resting?</span>\n",
      "</td><td>\n",
      "$0.50\n",
      "</td><td>\n",
      "<img src=\"../img/gifts/img4.jpg\"/>\n",
      "</td></tr>, <tr class=\"gift\" id=\"gift5\"><td>\n",
      "Mystery Box\n",
      "</td><td>\n",
      "If you love suprises, this mystery box is for you! Do not place on light-colored surfaces. May cause oil staining. <span class=\"excitingNote\">Keep your friends guessing!</span>\n",
      "</td><td>\n",
      "$1.50\n",
      "</td><td>\n",
      "<img src=\"../img/gifts/img6.jpg\"/>\n",
      "</td></tr>]\n"
     ]
    }
   ],
   "source": [
    "import requests\n",
    "response = requests.get('http://www.pythonscraping.com/pages/page3.html')\n",
    "response.encoding = 'UTF-8' #加入encoding的方法避免中文亂碼\n",
    "html = response.text\n",
    "\n",
    "from bs4 import BeautifulSoup\n",
    "soup = BeautifulSoup(html,'lxml')\n",
    "\n",
    "#特殊屬性可以直接使用\n",
    "print(soup.find_all(id='gift1'))\n",
    "print(soup.find_all(class_='gift'))"
   ]
  },
  {
   "cell_type": "markdown",
   "metadata": {},
   "source": [
    "### text"
   ]
  },
  {
   "cell_type": "code",
   "execution_count": 54,
   "metadata": {},
   "outputs": [
    {
     "name": "stdout",
     "output_type": "stream",
     "text": [
      "[]\n"
     ]
    }
   ],
   "source": [
    "import requests\n",
    "response = requests.get('http://www.pythonscraping.com/pages/page3.html')\n",
    "response.encoding = 'UTF-8' #加入encoding的方法避免中文亂碼\n",
    "html = response.text\n",
    "\n",
    "from bs4 import BeautifulSoup\n",
    "soup = BeautifulSoup(html,'lxml')\n",
    "\n",
    "print(soup.find_all(text='trained monkeys'))\n",
    "#不知道為什麼找不到"
   ]
  },
  {
   "cell_type": "markdown",
   "metadata": {},
   "source": [
    "### find(name, attrs, recursive, text, **kwargs)，返回第一個元素"
   ]
  },
  {
   "cell_type": "code",
   "execution_count": 50,
   "metadata": {},
   "outputs": [
    {
     "name": "stdout",
     "output_type": "stream",
     "text": [
      "<tr class=\"gift\" id=\"gift1\"><td>\n",
      "Vegetable Basket\n",
      "</td><td>\n",
      "This vegetable basket is the perfect gift for your health conscious (or overweight) friends!\n",
      "<span class=\"excitingNote\">Now with super-colorful bell peppers!</span>\n",
      "</td><td>\n",
      "$15.00\n",
      "</td><td>\n",
      "<img src=\"../img/gifts/img1.jpg\"/>\n",
      "</td></tr>\n",
      "<tr class=\"gift\" id=\"gift1\"><td>\n",
      "Vegetable Basket\n",
      "</td><td>\n",
      "This vegetable basket is the perfect gift for your health conscious (or overweight) friends!\n",
      "<span class=\"excitingNote\">Now with super-colorful bell peppers!</span>\n",
      "</td><td>\n",
      "$15.00\n",
      "</td><td>\n",
      "<img src=\"../img/gifts/img1.jpg\"/>\n",
      "</td></tr>\n"
     ]
    }
   ],
   "source": [
    "import requests\n",
    "response = requests.get('http://www.pythonscraping.com/pages/page3.html')\n",
    "response.encoding = 'UTF-8' #加入encoding的方法避免中文亂碼\n",
    "html = response.text\n",
    "\n",
    "from bs4 import BeautifulSoup\n",
    "soup = BeautifulSoup(html,'lxml')\n",
    "\n",
    "#特殊屬性可以直接使用\n",
    "print(soup.find(id='gift1'))\n",
    "print(soup.find(class_='gift'))"
   ]
  },
  {
   "cell_type": "markdown",
   "metadata": {},
   "source": [
    "### find_parents()返回所有祖先節點, find_parent()返回父節點"
   ]
  },
  {
   "cell_type": "markdown",
   "metadata": {},
   "source": [
    "### find_next_siblings(), find_next_sibling()"
   ]
  },
  {
   "cell_type": "markdown",
   "metadata": {},
   "source": [
    "### find_previous_siblings(), find_previous_sibling()"
   ]
  },
  {
   "cell_type": "markdown",
   "metadata": {},
   "source": [
    "### find_all_next(), find_next()"
   ]
  },
  {
   "cell_type": "markdown",
   "metadata": {},
   "source": [
    "### find_all_previous(), find_previous()"
   ]
  },
  {
   "cell_type": "markdown",
   "metadata": {},
   "source": [
    "# CSS選擇器"
   ]
  },
  {
   "cell_type": "markdown",
   "metadata": {},
   "source": [
    "select()可以直接傳入CSS選擇器即可完成"
   ]
  },
  {
   "cell_type": "code",
   "execution_count": 56,
   "metadata": {},
   "outputs": [
    {
     "name": "stdout",
     "output_type": "stream",
     "text": [
      "[<tr class=\"gift\" id=\"gift1\"><td>\n",
      "Vegetable Basket\n",
      "</td><td>\n",
      "This vegetable basket is the perfect gift for your health conscious (or overweight) friends!\n",
      "<span class=\"excitingNote\">Now with super-colorful bell peppers!</span>\n",
      "</td><td>\n",
      "$15.00\n",
      "</td><td>\n",
      "<img src=\"../img/gifts/img1.jpg\"/>\n",
      "</td></tr>, <tr class=\"gift\" id=\"gift2\"><td>\n",
      "Russian Nesting Dolls\n",
      "</td><td>\n",
      "Hand-painted by trained monkeys, these exquisite dolls are priceless! And by \"priceless,\" we mean \"extremely expensive\"! <span class=\"excitingNote\">8 entire dolls per set! Octuple the presents!</span>\n",
      "</td><td>\n",
      "$10,000.52\n",
      "</td><td>\n",
      "<img src=\"../img/gifts/img2.jpg\"/>\n",
      "</td></tr>, <tr class=\"gift\" id=\"gift3\"><td>\n",
      "Fish Painting\n",
      "</td><td>\n",
      "If something seems fishy about this painting, it's because it's a fish! <span class=\"excitingNote\">Also hand-painted by trained monkeys!</span>\n",
      "</td><td>\n",
      "$10,005.00\n",
      "</td><td>\n",
      "<img src=\"../img/gifts/img3.jpg\"/>\n",
      "</td></tr>, <tr class=\"gift\" id=\"gift4\"><td>\n",
      "Dead Parrot\n",
      "</td><td>\n",
      "This is an ex-parrot! <span class=\"excitingNote\">Or maybe he's only resting?</span>\n",
      "</td><td>\n",
      "$0.50\n",
      "</td><td>\n",
      "<img src=\"../img/gifts/img4.jpg\"/>\n",
      "</td></tr>, <tr class=\"gift\" id=\"gift5\"><td>\n",
      "Mystery Box\n",
      "</td><td>\n",
      "If you love suprises, this mystery box is for you! Do not place on light-colored surfaces. May cause oil staining. <span class=\"excitingNote\">Keep your friends guessing!</span>\n",
      "</td><td>\n",
      "$1.50\n",
      "</td><td>\n",
      "<img src=\"../img/gifts/img6.jpg\"/>\n",
      "</td></tr>]\n",
      "[<tr class=\"gift\" id=\"gift1\"><td>\n",
      "Vegetable Basket\n",
      "</td><td>\n",
      "This vegetable basket is the perfect gift for your health conscious (or overweight) friends!\n",
      "<span class=\"excitingNote\">Now with super-colorful bell peppers!</span>\n",
      "</td><td>\n",
      "$15.00\n",
      "</td><td>\n",
      "<img src=\"../img/gifts/img1.jpg\"/>\n",
      "</td></tr>]\n",
      "[<td>\n",
      "Vegetable Basket\n",
      "</td>, <td>\n",
      "This vegetable basket is the perfect gift for your health conscious (or overweight) friends!\n",
      "<span class=\"excitingNote\">Now with super-colorful bell peppers!</span>\n",
      "</td>, <td>\n",
      "$15.00\n",
      "</td>, <td>\n",
      "<img src=\"../img/gifts/img1.jpg\"/>\n",
      "</td>, <td>\n",
      "Russian Nesting Dolls\n",
      "</td>, <td>\n",
      "Hand-painted by trained monkeys, these exquisite dolls are priceless! And by \"priceless,\" we mean \"extremely expensive\"! <span class=\"excitingNote\">8 entire dolls per set! Octuple the presents!</span>\n",
      "</td>, <td>\n",
      "$10,000.52\n",
      "</td>, <td>\n",
      "<img src=\"../img/gifts/img2.jpg\"/>\n",
      "</td>, <td>\n",
      "Fish Painting\n",
      "</td>, <td>\n",
      "If something seems fishy about this painting, it's because it's a fish! <span class=\"excitingNote\">Also hand-painted by trained monkeys!</span>\n",
      "</td>, <td>\n",
      "$10,005.00\n",
      "</td>, <td>\n",
      "<img src=\"../img/gifts/img3.jpg\"/>\n",
      "</td>, <td>\n",
      "Dead Parrot\n",
      "</td>, <td>\n",
      "This is an ex-parrot! <span class=\"excitingNote\">Or maybe he's only resting?</span>\n",
      "</td>, <td>\n",
      "$0.50\n",
      "</td>, <td>\n",
      "<img src=\"../img/gifts/img4.jpg\"/>\n",
      "</td>, <td>\n",
      "Mystery Box\n",
      "</td>, <td>\n",
      "If you love suprises, this mystery box is for you! Do not place on light-colored surfaces. May cause oil staining. <span class=\"excitingNote\">Keep your friends guessing!</span>\n",
      "</td>, <td>\n",
      "$1.50\n",
      "</td>, <td>\n",
      "<img src=\"../img/gifts/img6.jpg\"/>\n",
      "</td>]\n"
     ]
    }
   ],
   "source": [
    "import requests\n",
    "response = requests.get('http://www.pythonscraping.com/pages/page3.html')\n",
    "response.encoding = 'UTF-8' #加入encoding的方法避免中文亂碼\n",
    "html = response.text\n",
    "\n",
    "from bs4 import BeautifulSoup\n",
    "soup = BeautifulSoup(html,'lxml')\n",
    "\n",
    "print(soup.select('.gift')) #class前面加.\n",
    "print(soup.select('#gift1'))#id前面加#\n",
    "print(soup.select('tr td')) #印出tr中所有td的項目"
   ]
  },
  {
   "cell_type": "code",
   "execution_count": 57,
   "metadata": {},
   "outputs": [
    {
     "name": "stdout",
     "output_type": "stream",
     "text": [
      "[]\n",
      "[<td>\n",
      "Vegetable Basket\n",
      "</td>, <td>\n",
      "This vegetable basket is the perfect gift for your health conscious (or overweight) friends!\n",
      "<span class=\"excitingNote\">Now with super-colorful bell peppers!</span>\n",
      "</td>, <td>\n",
      "$15.00\n",
      "</td>, <td>\n",
      "<img src=\"../img/gifts/img1.jpg\"/>\n",
      "</td>]\n",
      "[<td>\n",
      "Russian Nesting Dolls\n",
      "</td>, <td>\n",
      "Hand-painted by trained monkeys, these exquisite dolls are priceless! And by \"priceless,\" we mean \"extremely expensive\"! <span class=\"excitingNote\">8 entire dolls per set! Octuple the presents!</span>\n",
      "</td>, <td>\n",
      "$10,000.52\n",
      "</td>, <td>\n",
      "<img src=\"../img/gifts/img2.jpg\"/>\n",
      "</td>]\n",
      "[<td>\n",
      "Fish Painting\n",
      "</td>, <td>\n",
      "If something seems fishy about this painting, it's because it's a fish! <span class=\"excitingNote\">Also hand-painted by trained monkeys!</span>\n",
      "</td>, <td>\n",
      "$10,005.00\n",
      "</td>, <td>\n",
      "<img src=\"../img/gifts/img3.jpg\"/>\n",
      "</td>]\n",
      "[<td>\n",
      "Dead Parrot\n",
      "</td>, <td>\n",
      "This is an ex-parrot! <span class=\"excitingNote\">Or maybe he's only resting?</span>\n",
      "</td>, <td>\n",
      "$0.50\n",
      "</td>, <td>\n",
      "<img src=\"../img/gifts/img4.jpg\"/>\n",
      "</td>]\n",
      "[<td>\n",
      "Mystery Box\n",
      "</td>, <td>\n",
      "If you love suprises, this mystery box is for you! Do not place on light-colored surfaces. May cause oil staining. <span class=\"excitingNote\">Keep your friends guessing!</span>\n",
      "</td>, <td>\n",
      "$1.50\n",
      "</td>, <td>\n",
      "<img src=\"../img/gifts/img6.jpg\"/>\n",
      "</td>]\n"
     ]
    }
   ],
   "source": [
    "import requests\n",
    "response = requests.get('http://www.pythonscraping.com/pages/page3.html')\n",
    "response.encoding = 'UTF-8' #加入encoding的方法避免中文亂碼\n",
    "html = response.text\n",
    "\n",
    "from bs4 import BeautifulSoup\n",
    "soup = BeautifulSoup(html,'lxml')\n",
    "\n",
    "for tr in soup.select('tr'):\n",
    "    print(tr.select('td')) #印出每個tr中的td"
   ]
  },
  {
   "cell_type": "markdown",
   "metadata": {},
   "source": [
    "### 獲取屬性"
   ]
  },
  {
   "cell_type": "code",
   "execution_count": 59,
   "metadata": {},
   "outputs": [
    {
     "name": "stdout",
     "output_type": "stream",
     "text": [
      "top\n",
      "top\n",
      "wrapper\n",
      "wrapper\n",
      "banner\n",
      "banner\n",
      "mail\n",
      "mail\n",
      "imgcss\n",
      "imgcss\n",
      "content\n",
      "content\n",
      "webmail\n",
      "webmail\n",
      "imgcss\n",
      "imgcss\n",
      "content\n",
      "content\n",
      "footer\n",
      "footer\n"
     ]
    }
   ],
   "source": [
    "import requests\n",
    "response = requests.get('http://ntumail.cc.ntu.edu.tw')\n",
    "response.encoding = 'UTF-8' #加入encoding的方法避免中文亂碼\n",
    "html = response.text\n",
    "\n",
    "from bs4 import BeautifulSoup\n",
    "soup = BeautifulSoup(html,'lxml')\n",
    "for div in soup.select('div'):\n",
    "    print(div['id'])\n",
    "    print(div.attrs['id'])"
   ]
  },
  {
   "cell_type": "markdown",
   "metadata": {},
   "source": [
    "### 獲取文本內容"
   ]
  },
  {
   "cell_type": "code",
   "execution_count": 60,
   "metadata": {},
   "outputs": [
    {
     "name": "stdout",
     "output_type": "stream",
     "text": [
      " 服務對象\r\n",
      "            \t\n",
      "教職員帳號 \\ Faculty Account\n",
      "公務、計畫、及短期帳號 \\ Project and Short Term Account\n",
      "所有在學學生帳號 \\ Internal Student Account\n",
      "\n",
      "\n",
      "教職員帳號 \\ Faculty Account\n",
      "公務、計畫、及短期帳號 \\ Project and Short Term Account\n",
      "所有在學學生帳號 \\ Internal Student Account\n",
      " 立即前往 Go to Mail 2.0\n",
      " Mail 2.0 FAQ\n",
      " 服務對象\r\n",
      "            \t\n",
      "校友帳號 \\ Alumni Account\n",
      "醫院員工帳號 \\ Hospital Staff Account\n",
      "\n",
      "\n",
      "校友帳號 \\ Alumni Account\n",
      "醫院員工帳號 \\ Hospital Staff Account\n",
      " 立即前往 Go to Webmail 1.0\n",
      " Webmail FAQ\n"
     ]
    }
   ],
   "source": [
    "import requests\n",
    "response = requests.get('http://ntumail.cc.ntu.edu.tw')\n",
    "response.encoding = 'UTF-8' #加入encoding的方法避免中文亂碼\n",
    "html = response.text\n",
    "\n",
    "from bs4 import BeautifulSoup\n",
    "soup = BeautifulSoup(html,'lxml')\n",
    "\n",
    "for li in soup.select('li'):\n",
    "    print(li.get_text())"
   ]
  },
  {
   "cell_type": "markdown",
   "metadata": {},
   "source": [
    "# 總結"
   ]
  },
  {
   "cell_type": "raw",
   "metadata": {},
   "source": [
    "推薦使用lxml解析庫，必要時使用html.parser\n",
    "標籤選擇篩選功能弱，但是速度快\n",
    "建議使用find(), find_all() 查詢匹配單個結果或多個結果\n",
    "如果對CSS選擇器熟悉則用select()\n",
    "記住常用的獲取attrs和text方法"
   ]
  },
  {
   "cell_type": "code",
   "execution_count": null,
   "metadata": {
    "collapsed": true
   },
   "outputs": [],
   "source": []
  }
 ],
 "metadata": {
  "kernelspec": {
   "display_name": "Python 3",
   "language": "python",
   "name": "python3"
  },
  "language_info": {
   "codemirror_mode": {
    "name": "ipython",
    "version": 3
   },
   "file_extension": ".py",
   "mimetype": "text/x-python",
   "name": "python",
   "nbconvert_exporter": "python",
   "pygments_lexer": "ipython3",
   "version": "3.6.1"
  }
 },
 "nbformat": 4,
 "nbformat_minor": 2
}
